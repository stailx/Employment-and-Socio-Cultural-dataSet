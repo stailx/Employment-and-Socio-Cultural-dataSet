{
  "nbformat": 4,
  "nbformat_minor": 0,
  "metadata": {
    "colab": {
      "name": "Sy09",
      "provenance": [],
      "collapsed_sections": [],
      "toc_visible": true
    },
    "kernelspec": {
      "display_name": "Python 3",
      "name": "python3"
    },
    "language_info": {
      "name": "python"
    }
  },
  "cells": [
    {
      "cell_type": "markdown",
      "metadata": {
        "id": "queKhCCQ-oNY"
      },
      "source": [
        "# Loading et Pretraitement"
      ]
    },
    {
      "cell_type": "code",
      "metadata": {
        "colab": {
          "base_uri": "https://localhost:8080/",
          "height": 1000
        },
        "id": "010EqjZTGFbl",
        "outputId": "8395b763-3444-44d9-aa44-22907ebd0ade"
      },
      "source": [
        "import pandas as pd \n",
        "import numpy as np \n",
        "\n",
        "import matplotlib.pyplot as plt\n",
        "import seaborn as sns\n",
        "earn = pd.read_csv(\"https://raw.githubusercontent.com/rfordatascience/tidytuesday/master/data/2021/2021-02-23/earn.csv\");\n",
        "employee = pd.read_csv(\"https://raw.githubusercontent.com/rfordatascience/tidytuesday/master/data/2021/2021-02-23/employed.csv\");\n",
        "\n",
        "industry = employee.industry.dropna().unique();\n",
        "industry = np.delete(industry,[19,20,21,22,23,24])\n",
        "employee.industry = employee.industry.astype(\"category\");\n",
        "employee.industry = employee.industry.cat.set_categories(industry);\n",
        "\n",
        "major_occupation = employee.major_occupation.dropna().unique();\n",
        "employee.major_occupation = employee.major_occupation.astype(\"category\");\n",
        "employee.major_occupation = employee.major_occupation.cat.set_categories(major_occupation);\n",
        "\n",
        "minor_occupation = employee.minor_occupation.dropna().unique();\n",
        "employee.minor_occupation = employee.minor_occupation.astype(\"category\");\n",
        "employee.minor_occupation = employee.minor_occupation.cat.set_categories(minor_occupation);\n",
        "\n",
        "race_gender = employee.race_gender.dropna().unique();\n",
        "employee.race_gender = employee.race_gender.astype(\"category\");\n",
        "employee.race_gender = employee.race_gender.cat.set_categories(race_gender);\n",
        "\n",
        "employee=employee.replace('Mining, quarrying, and\\r\\noil and gas extraction','Mining, quarrying, and oil and gas extraction')\n",
        "employee=employee.replace('Manage-ment, business, and financial operations occupations','Management, business, and financial operations occupations')\n",
        "\n",
        "sex = earn.sex.dropna().unique();\n",
        "sex= np.delete(sex,[0])\n",
        "earn.sex = earn.sex.astype(\"category\");\n",
        "earn.sex = earn.sex.cat.set_categories(sex);\n",
        "\n",
        "race = earn.race.dropna().unique();\n",
        "earn.race = earn.race.astype(\"category\");\n",
        "earn.race = earn.race.cat.set_categories(race);\n",
        "\n",
        "ethnic_origin = earn.ethnic_origin.dropna().unique();\n",
        "earn.ethnic_origin = earn.ethnic_origin.astype(\"category\");\n",
        "earn.ethnic_origin = earn.ethnic_origin.cat.set_categories(ethnic_origin);\n",
        "\n",
        "age = earn.age.dropna().unique();\n",
        "print(age)\n",
        "earn.age = earn.age.astype(\"category\");\n",
        "earn.age = earn.age.cat.set_categories(age);\n",
        "\n",
        "Total = employee.loc[employee.race_gender== \"TOTAL\"]\n",
        "Men = employee.loc[employee.race_gender == \"Men\"]\n",
        "Women = employee.loc[employee.race_gender == \"Women\"]\n",
        "White = employee.loc[employee.race_gender == \"White\"]\n",
        "BlackAmerican = employee.loc[employee.race_gender == \"Black or African American\"]\n",
        "Asian = employee.loc[employee.race_gender == \"Asian\"]\n",
        "\n",
        "#NewEmployee = pd.concat([Total,Men,Women,White,BlackAmerican,Asian],axis=1)\n",
        "NewEmployee = pd.merge(Total, Men, on = ['industry','major_occupation','minor_occupation','year'],suffixes = ('_TOTAL', '_Men'),)\n",
        "NewEmployee = pd.merge(NewEmployee, Women, on = ['industry','major_occupation','minor_occupation','year'],suffixes = ('', '_Women'))\n",
        "NewEmployee = pd.merge(NewEmployee, White, on = ['industry','major_occupation','minor_occupation','year'],suffixes = ('', '_White'))\n",
        "NewEmployee = pd.merge(NewEmployee, BlackAmerican, on = ['industry','major_occupation','minor_occupation','year'],suffixes = ('', '_BA'))\n",
        "NewEmployee = pd.merge(NewEmployee, Asian, on = ['industry','major_occupation','minor_occupation','year'],suffixes = ('', '_Asian'))\n",
        "NewEmployee = NewEmployee.drop([\"race_gender_TOTAL\",\"race_gender_Men\",\"race_gender\",\"race_gender_White\",\"race_gender_BA\",\"race_gender_Asian\"], axis=1)\n",
        "NewEmployee.columns=[\"industry\",\"major_occupation\",\"minor_occupation\",\"industry_total\",\"employ_n\",\"year\",\"industry_total_Men\",\"employ_n_Men\",\"industry_total_Women\",\"employ_n_Women\",\"industry_total_White\",\"employ_n_White\",\"industry_total_BA\",\"employ_n_BA\",\"industry_total_Asian\",\"employ_n_Asian\"]\n",
        "NewEmployee = NewEmployee[[\"industry\",\"major_occupation\",\"minor_occupation\",\"year\",\"industry_total\",\"industry_total_Men\",\"industry_total_Women\",\"industry_total_White\",\"industry_total_BA\",\"industry_total_Asian\",\"employ_n\",\"employ_n_Men\",\"employ_n_Women\",\"employ_n_White\",\"employ_n_BA\",\"employ_n_Asian\"]]\n",
        "NewEmployee.employ_n_Men = (NewEmployee.employ_n_Men/NewEmployee.employ_n)*100\n",
        "NewEmployee.employ_n_Women = (NewEmployee.employ_n_Women/NewEmployee.employ_n)*100\n",
        "NewEmployee.employ_n_White = (NewEmployee.employ_n_White/NewEmployee.employ_n)*100\n",
        "NewEmployee.employ_n_BA = (NewEmployee.employ_n_BA/NewEmployee.employ_n)*100\n",
        "NewEmployee.employ_n_Asian = (NewEmployee.employ_n_Asian/NewEmployee.employ_n)*100\n",
        "NewEmployee.industry_total_Men = (NewEmployee.industry_total_Men/NewEmployee.industry_total)*100\n",
        "NewEmployee.industry_total_Women = (NewEmployee.industry_total_Women/NewEmployee.industry_total)*100\n",
        "NewEmployee.industry_total_White = (NewEmployee.industry_total_White/NewEmployee.industry_total)*100\n",
        "NewEmployee.industry_total_BA = (NewEmployee.industry_total_BA/NewEmployee.industry_total)*100\n",
        "NewEmployee.industry_total_Asian = (NewEmployee.industry_total_Asian/NewEmployee.industry_total)*100\n",
        "\n",
        "Industry = NewEmployee.loc[:,['industry',\"year\",\"industry_total\",\"industry_total_Men\",\"industry_total_Women\",\"industry_total_White\",\"industry_total_BA\",\"industry_total_Asian\"]]\n",
        "Industry = Industry.drop_duplicates(subset=['industry',\"year\"]).sort_values(by=['industry','year'])\n",
        "Industry.columns=['industry','year','industry_total','Men_Pourcentages','Women_Pourcentages','White_Pourcentages','BA_Pourcentages','Asian_Pourcentages'] \n",
        "Industry.drop(Industry[Industry.industry==\"Men\"].index, inplace=True)\n",
        "\n",
        "\n",
        "NbEmployee = NewEmployee.loc[:,['industry',\"major_occupation\",\"minor_occupation\",\"year\",\"employ_n\",\"employ_n_Men\",\"employ_n_Women\",\"employ_n_White\",\"employ_n_BA\",\"employ_n_Asian\"]]\n",
        "NbEmployee.columns=['industry',\"major_occupation\",\"minor_occupation\",\"year\",\"employ_total\",'Men_Pourcentages','Women_Pourcentages','White_Pourcentages','BA_Pourcentages','Asian_Pourcentages']\n",
        "\n",
        "sns.heatmap(Industry.corr(),annot=True,lw=1)\n",
        "NbEmployee"
      ],
      "execution_count": 1,
      "outputs": [
        {
          "output_type": "stream",
          "name": "stdout",
          "text": [
            "['16 years and over' '16 to 24 years' '16 to 19 years' '20 to 24 years'\n",
            " '25 years and over' '25 to 54 years' '25 to 34 years' '35 to 44 years'\n",
            " '45 to 54 years' '55 years and over' '55 to 64 years' '65 years and over']\n"
          ]
        },
        {
          "output_type": "execute_result",
          "data": {
            "text/html": [
              "<div>\n",
              "<style scoped>\n",
              "    .dataframe tbody tr th:only-of-type {\n",
              "        vertical-align: middle;\n",
              "    }\n",
              "\n",
              "    .dataframe tbody tr th {\n",
              "        vertical-align: top;\n",
              "    }\n",
              "\n",
              "    .dataframe thead th {\n",
              "        text-align: right;\n",
              "    }\n",
              "</style>\n",
              "<table border=\"1\" class=\"dataframe\">\n",
              "  <thead>\n",
              "    <tr style=\"text-align: right;\">\n",
              "      <th></th>\n",
              "      <th>industry</th>\n",
              "      <th>major_occupation</th>\n",
              "      <th>minor_occupation</th>\n",
              "      <th>year</th>\n",
              "      <th>employ_total</th>\n",
              "      <th>Men_Pourcentages</th>\n",
              "      <th>Women_Pourcentages</th>\n",
              "      <th>White_Pourcentages</th>\n",
              "      <th>BA_Pourcentages</th>\n",
              "      <th>Asian_Pourcentages</th>\n",
              "    </tr>\n",
              "  </thead>\n",
              "  <tbody>\n",
              "    <tr>\n",
              "      <th>0</th>\n",
              "      <td>Agriculture and related</td>\n",
              "      <td>Management, professional, and related occupations</td>\n",
              "      <td>Management, business, and financial operations...</td>\n",
              "      <td>2020</td>\n",
              "      <td>961000.0</td>\n",
              "      <td>73.569199</td>\n",
              "      <td>26.326743</td>\n",
              "      <td>96.357960</td>\n",
              "      <td>0.624350</td>\n",
              "      <td>0.728408</td>\n",
              "    </tr>\n",
              "    <tr>\n",
              "      <th>1</th>\n",
              "      <td>Agriculture and related</td>\n",
              "      <td>Management, professional, and related occupations</td>\n",
              "      <td>Professional and related occupations</td>\n",
              "      <td>2020</td>\n",
              "      <td>58000.0</td>\n",
              "      <td>62.068966</td>\n",
              "      <td>37.931034</td>\n",
              "      <td>82.758621</td>\n",
              "      <td>8.620690</td>\n",
              "      <td>5.172414</td>\n",
              "    </tr>\n",
              "    <tr>\n",
              "      <th>2</th>\n",
              "      <td>Agriculture and related</td>\n",
              "      <td>Service occupations</td>\n",
              "      <td>Protective service occupations</td>\n",
              "      <td>2020</td>\n",
              "      <td>13000.0</td>\n",
              "      <td>84.615385</td>\n",
              "      <td>15.384615</td>\n",
              "      <td>92.307692</td>\n",
              "      <td>0.000000</td>\n",
              "      <td>0.000000</td>\n",
              "    </tr>\n",
              "    <tr>\n",
              "      <th>3</th>\n",
              "      <td>Agriculture and related</td>\n",
              "      <td>Service occupations</td>\n",
              "      <td>Service occupations, except protective</td>\n",
              "      <td>2020</td>\n",
              "      <td>94000.0</td>\n",
              "      <td>55.319149</td>\n",
              "      <td>44.680851</td>\n",
              "      <td>91.489362</td>\n",
              "      <td>4.255319</td>\n",
              "      <td>0.000000</td>\n",
              "    </tr>\n",
              "    <tr>\n",
              "      <th>4</th>\n",
              "      <td>Agriculture and related</td>\n",
              "      <td>Sales and office occupations</td>\n",
              "      <td>Sales and related occupations</td>\n",
              "      <td>2020</td>\n",
              "      <td>12000.0</td>\n",
              "      <td>50.000000</td>\n",
              "      <td>50.000000</td>\n",
              "      <td>91.666667</td>\n",
              "      <td>8.333333</td>\n",
              "      <td>0.000000</td>\n",
              "    </tr>\n",
              "    <tr>\n",
              "      <th>...</th>\n",
              "      <td>...</td>\n",
              "      <td>...</td>\n",
              "      <td>...</td>\n",
              "      <td>...</td>\n",
              "      <td>...</td>\n",
              "      <td>...</td>\n",
              "      <td>...</td>\n",
              "      <td>...</td>\n",
              "      <td>...</td>\n",
              "      <td>...</td>\n",
              "    </tr>\n",
              "    <tr>\n",
              "      <th>6573</th>\n",
              "      <td>Public administration</td>\n",
              "      <td>Natural resources, construction, and maintenan...</td>\n",
              "      <td>Farming, fishing, and forestry occupations</td>\n",
              "      <td>2015</td>\n",
              "      <td>21000.0</td>\n",
              "      <td>66.666667</td>\n",
              "      <td>33.333333</td>\n",
              "      <td>80.952381</td>\n",
              "      <td>9.523810</td>\n",
              "      <td>4.761905</td>\n",
              "    </tr>\n",
              "    <tr>\n",
              "      <th>6574</th>\n",
              "      <td>Public administration</td>\n",
              "      <td>Natural resources, construction, and maintenan...</td>\n",
              "      <td>Construction and extraction occupations</td>\n",
              "      <td>2015</td>\n",
              "      <td>82000.0</td>\n",
              "      <td>93.902439</td>\n",
              "      <td>7.317073</td>\n",
              "      <td>71.951220</td>\n",
              "      <td>26.829268</td>\n",
              "      <td>1.219512</td>\n",
              "    </tr>\n",
              "    <tr>\n",
              "      <th>6575</th>\n",
              "      <td>Public administration</td>\n",
              "      <td>Natural resources, construction, and maintenan...</td>\n",
              "      <td>Installation, maintenance, and repair occupations</td>\n",
              "      <td>2015</td>\n",
              "      <td>123000.0</td>\n",
              "      <td>94.308943</td>\n",
              "      <td>6.504065</td>\n",
              "      <td>74.796748</td>\n",
              "      <td>14.634146</td>\n",
              "      <td>3.252033</td>\n",
              "    </tr>\n",
              "    <tr>\n",
              "      <th>6576</th>\n",
              "      <td>Public administration</td>\n",
              "      <td>Production, transportation, and material movin...</td>\n",
              "      <td>Production occupations</td>\n",
              "      <td>2015</td>\n",
              "      <td>57000.0</td>\n",
              "      <td>89.473684</td>\n",
              "      <td>10.526316</td>\n",
              "      <td>78.947368</td>\n",
              "      <td>12.280702</td>\n",
              "      <td>5.263158</td>\n",
              "    </tr>\n",
              "    <tr>\n",
              "      <th>6577</th>\n",
              "      <td>Public administration</td>\n",
              "      <td>Production, transportation, and material movin...</td>\n",
              "      <td>Transportation and material moving occupations</td>\n",
              "      <td>2015</td>\n",
              "      <td>87000.0</td>\n",
              "      <td>82.758621</td>\n",
              "      <td>17.241379</td>\n",
              "      <td>77.011494</td>\n",
              "      <td>16.091954</td>\n",
              "      <td>4.597701</td>\n",
              "    </tr>\n",
              "  </tbody>\n",
              "</table>\n",
              "<p>6578 rows × 10 columns</p>\n",
              "</div>"
            ],
            "text/plain": [
              "                     industry  ... Asian_Pourcentages\n",
              "0     Agriculture and related  ...           0.728408\n",
              "1     Agriculture and related  ...           5.172414\n",
              "2     Agriculture and related  ...           0.000000\n",
              "3     Agriculture and related  ...           0.000000\n",
              "4     Agriculture and related  ...           0.000000\n",
              "...                       ...  ...                ...\n",
              "6573    Public administration  ...           4.761905\n",
              "6574    Public administration  ...           1.219512\n",
              "6575    Public administration  ...           3.252033\n",
              "6576    Public administration  ...           5.263158\n",
              "6577    Public administration  ...           4.597701\n",
              "\n",
              "[6578 rows x 10 columns]"
            ]
          },
          "metadata": {},
          "execution_count": 1
        },
        {
          "output_type": "display_data",
          "data": {
            "image/png": "[encoded data removed]",
            "text/plain": [
              "<Figure size 432x288 with 2 Axes>"
            ]
          },
          "metadata": {
            "needs_background": "light"
          }
        }
      ]
    },
    {
      "cell_type": "code",
      "metadata": {
        "id": "Wo-g6m1oHvVh"
      },
      "source": [
        "from sklearn.cluster import KMeans\n",
        "from sklearn.decomposition import PCA\n",
        "from sklearn.preprocessing import scale\n",
        "\n",
        "def scatterplot_pca(\n",
        "    columns=None, hue=None, style=None, data=None, pc1=1, pc2=2, **kwargs\n",
        "):\n",
        "    \"\"\"\n",
        "    Utilise `sns.scatterplot` en appliquant d'abord une ACP si besoin\n",
        "    pour réduire la dimension.\n",
        "    \"\"\"\n",
        "\n",
        "    # Select columns (should be numeric)\n",
        "    data_quant = data if columns is None else data[columns]\n",
        "    data_quant = data_quant.drop(\n",
        "        columns=[e for e in [hue, style] if e is not None], errors=\"ignore\"\n",
        "    )\n",
        "\n",
        "    # Reduce to two dimensions\n",
        "    if data_quant.shape[1] == 2:\n",
        "        data_pca = data_quant\n",
        "        pca = None\n",
        "    else:\n",
        "        n_components = max(pc1, pc2)\n",
        "        pca = PCA(n_components=n_components)\n",
        "        data_pca = pca.fit_transform(data_quant)\n",
        "        data_pca = pd.DataFrame(\n",
        "            data_pca[:, [pc1 - 1, pc2 - 1]], columns=[f\"PC{pc1}\", f\"PC{pc2}\"]\n",
        "        )\n",
        "\n",
        "    # Keep name, force categorical data for hue and steal index to\n",
        "    # avoid unwanted alignment\n",
        "    if isinstance(hue, pd.Series):\n",
        "        if not hue.name:\n",
        "            hue.name = \"hue\"\n",
        "        hue_name = hue.name\n",
        "    elif isinstance(hue, str):\n",
        "        hue_name = hue\n",
        "        hue = data[hue]\n",
        "    elif isinstance(hue, np.ndarray):\n",
        "        hue = pd.Series(hue, name=\"class\")\n",
        "        hue_name = \"class\"\n",
        "\n",
        "    hue = hue.astype(\"category\")\n",
        "    hue.index = data_pca.index\n",
        "    hue.name = hue_name\n",
        "\n",
        "    if isinstance(style, pd.Series):\n",
        "        if not style.name:\n",
        "            style.name = \"style\"\n",
        "        style_name = style.name\n",
        "    elif isinstance(style, str):\n",
        "        style_name = style\n",
        "        style = data[style]\n",
        "    elif isinstance(style, np.ndarray):\n",
        "        style = pd.Series(style, name=\"style\")\n",
        "        style_name = \"style\"\n",
        "\n",
        "    sp_kwargs = {}\n",
        "    full_data = data_pca\n",
        "    if hue is not None:\n",
        "        full_data = pd.concat((full_data, hue), axis=1)\n",
        "        sp_kwargs[\"hue\"] = hue_name\n",
        "        sp_kwargs[\"style\"] = hue_name\n",
        "    #if style is not None:\n",
        "     #   full_data = pd.concat((full_data, style), axis=1)\n",
        "      #  sp_kwargs[\"style\"] = style_name\n",
        "\n",
        "    x, y = data_pca.columns\n",
        "    ax = sns.scatterplot(x=x, y=y, data=full_data, **sp_kwargs)\n",
        "\n",
        "    return ax, pca"
      ],
      "execution_count": 2,
      "outputs": []
    },
    {
      "cell_type": "code",
      "metadata": {
        "id": "l_R1hTULTTIy"
      },
      "source": [
        "HispanicMen = earn[(earn[\"ethnic_origin\"] == 'Hispanic or Latino')&(earn[\"sex\"] == 'Men')]\n",
        "for trash_category in ['25 years and over', '16 years and over']:\n",
        "    HispanicMen = HispanicMen.drop(HispanicMen[HispanicMen.age ==trash_category].index)\n",
        "\n",
        "HispanicWomen = earn[(earn[\"ethnic_origin\"] == 'Hispanic or Latino')&(earn[\"sex\"] == 'Women')]\n",
        "\n",
        "for trash_category in ['25 years and over', '16 years and over']:\n",
        "    HispanicWomen = HispanicWomen.drop(HispanicWomen[HispanicWomen.age ==trash_category].index)\n",
        "\n",
        "WhiteMen = earn[(earn[\"race\"] == 'White')&(earn[\"sex\"] == 'Men')]\n",
        "\n",
        "for trash_category in ['25 years and over', '16 years and over']:\n",
        "    WhiteMen = WhiteMen.drop(WhiteMen[WhiteMen.age ==trash_category].index)\n",
        "\n",
        "WhiteWomen = earn[(earn[\"race\"] == 'White')&(earn[\"sex\"] == 'Women')]\n",
        "\n",
        "for trash_category in ['25 years and over', '16 years and over']:\n",
        "    WhiteWomen = WhiteWomen.drop(WhiteWomen[WhiteWomen.age ==trash_category].index)\n",
        "\n",
        "BlackMen = earn[(earn[\"race\"] == 'Black or African American')&(earn[\"sex\"] == 'Men')]\n",
        "\n",
        "for trash_category in ['25 years and over', '16 years and over']:\n",
        "    BlackMen = BlackMen.drop(BlackMen[BlackMen.age ==trash_category].index)\n",
        "\n",
        "BlackWomen = earn[(earn[\"race\"] == 'Black or African American')&(earn[\"sex\"] == 'Women')]\n",
        "\n",
        "for trash_category in ['25 years and over', '16 years and over']:\n",
        "    BlackWomen = BlackWomen.drop(BlackWomen[BlackWomen.age ==trash_category].index)\n",
        "\n",
        "AsianMen = earn[(earn[\"race\"] == 'Asian')&(earn[\"sex\"] == 'Men')]\n",
        "\n",
        "for trash_category in ['25 years and over', '16 years and over']:\n",
        "    AsianMen = AsianMen.drop(AsianMen[AsianMen.age ==trash_category].index)\n",
        "\n",
        "AsianWomen = earn[(earn[\"race\"] == 'Asian')&(earn[\"sex\"] == 'Women')]\n",
        "\n",
        "for trash_category in ['25 years and over', '16 years and over']:\n",
        "    AsianWomen = AsianWomen.drop(AsianWomen[AsianWomen.age == trash_category].index)\n",
        "from sklearn.preprocessing import scale\n",
        "\n",
        "\n",
        "\n",
        "Data = pd.concat([AsianWomen, AsianMen,BlackWomen,BlackMen,WhiteWomen,WhiteMen])\n",
        "\n",
        "age2 = Data.age.dropna().unique();\n",
        "Data.age = earn.age.astype(\"category\");\n",
        "ethnic2 =  Data.ethnic_origin.dropna().unique();\n",
        "Data.ethnic_origin = earn.ethnic_origin.cat.set_categories(ethnic2);\n",
        "Data.age = earn.age.cat.set_categories(age2);\n",
        "race2 =  Data.race.dropna().unique();\n",
        "Data.race = earn.race.cat.set_categories(race2);\n",
        "\n",
        "\n",
        "#Data['n_persons']=Data['n_persons']-Data['n_persons'].mean()\n",
        "#Data['median_weekly_earn']=Data['median_weekly_earn']-Data['median_weekly_earn'].mean()\n",
        "#Data.ethnic_origin= Data.ethnic_origin.cat.codes\n",
        "#Data.sex = Data.sex.cat.codes\n",
        "#Data.race = Data.race.cat.codes\n",
        "#Data.ethnic_origin = Data.ethnic_origin.cat.codes\n",
        "\n",
        "Data=Data.groupby(['sex','race','age','year','ethnic_origin'], as_index=False).agg({'n_persons': 'mean','median_weekly_earn': 'mean','quarter': 'mean'})\n",
        "\n",
        "Test = pd.get_dummies(data=Data[['year','race','n_persons','median_weekly_earn']], drop_first=True)\n",
        "\n",
        "#Data = Data.sort_values(by=['race','sex','year','age'])\n",
        "#Data = Data.loc[Data.race!='All Races'].drop(['quarter'],axis=1) \n",
        "\n",
        "dataPCA = Test[['n_persons','median_weekly_earn','year']]\n",
        "dataPCA = dataPCA.fillna(0)\n",
        "dataPCA_scaled = scale(dataPCA)\n",
        "\n",
        "#Data.groupby(['race','ethnic_origin'], as_index=False).agg({'n_persons': 'mean','median_weekly_earn': 'mean'})"
      ],
      "execution_count": 3,
      "outputs": []
    },
    {
      "cell_type": "code",
      "metadata": {
        "colab": {
          "base_uri": "https://localhost:8080/",
          "height": 381
        },
        "id": "aoODFvu4QrMr",
        "outputId": "bef7ebde-22b1-4f54-ed54-ea10ecf01b4b"
      },
      "source": [
        "sns.heatmap(Data.corr(),annot=True,lw=1)"
      ],
      "execution_count": 4,
      "outputs": [
        {
          "output_type": "execute_result",
          "data": {
            "text/plain": [
              "<matplotlib.axes._subplots.AxesSubplot at 0x7f58f6fefd10>"
            ]
          },
          "metadata": {},
          "execution_count": 4
        },
        {
          "output_type": "display_data",
          "data": {
            "image/png": "[encoded data removed]",
            "text/plain": [
              "<Figure size 432x288 with 2 Axes>"
            ]
          },
          "metadata": {
            "needs_background": "light"
          }
        }
      ]
    },
    {
      "cell_type": "markdown",
      "metadata": {
        "id": "4FGDUbH0_LFJ"
      },
      "source": [
        "##Transformation des variables qualitative"
      ]
    },
    {
      "cell_type": "code",
      "metadata": {
        "colab": {
          "base_uri": "https://localhost:8080/",
          "height": 434
        },
        "id": "KdwUphjoRF-T",
        "outputId": "4ac989ca-a80c-455f-c838-7d0aa3d468a4"
      },
      "source": [
        "\n",
        "from sklearn.preprocessing import OneHotEncoder\n",
        "Y = Data['median_weekly_earn'] #variable a explique\n",
        "X = pd.get_dummies(data=Data[['race','age','sex','n_persons']])\n",
        "X\n"
      ],
      "execution_count": 5,
      "outputs": [
        {
          "output_type": "execute_result",
          "data": {
            "text/html": [
              "<div>\n",
              "<style scoped>\n",
              "    .dataframe tbody tr th:only-of-type {\n",
              "        vertical-align: middle;\n",
              "    }\n",
              "\n",
              "    .dataframe tbody tr th {\n",
              "        vertical-align: top;\n",
              "    }\n",
              "\n",
              "    .dataframe thead th {\n",
              "        text-align: right;\n",
              "    }\n",
              "</style>\n",
              "<table border=\"1\" class=\"dataframe\">\n",
              "  <thead>\n",
              "    <tr style=\"text-align: right;\">\n",
              "      <th></th>\n",
              "      <th>n_persons</th>\n",
              "      <th>race_Asian</th>\n",
              "      <th>race_Black or African American</th>\n",
              "      <th>race_White</th>\n",
              "      <th>age_16 to 24 years</th>\n",
              "      <th>age_25 to 54 years</th>\n",
              "      <th>age_55 years and over</th>\n",
              "      <th>sex_Men</th>\n",
              "      <th>sex_Women</th>\n",
              "    </tr>\n",
              "  </thead>\n",
              "  <tbody>\n",
              "    <tr>\n",
              "      <th>0</th>\n",
              "      <td>143000</td>\n",
              "      <td>1</td>\n",
              "      <td>0</td>\n",
              "      <td>0</td>\n",
              "      <td>1</td>\n",
              "      <td>0</td>\n",
              "      <td>0</td>\n",
              "      <td>1</td>\n",
              "      <td>0</td>\n",
              "    </tr>\n",
              "    <tr>\n",
              "      <th>1</th>\n",
              "      <td>149000</td>\n",
              "      <td>1</td>\n",
              "      <td>0</td>\n",
              "      <td>0</td>\n",
              "      <td>1</td>\n",
              "      <td>0</td>\n",
              "      <td>0</td>\n",
              "      <td>1</td>\n",
              "      <td>0</td>\n",
              "    </tr>\n",
              "    <tr>\n",
              "      <th>2</th>\n",
              "      <td>204500</td>\n",
              "      <td>1</td>\n",
              "      <td>0</td>\n",
              "      <td>0</td>\n",
              "      <td>1</td>\n",
              "      <td>0</td>\n",
              "      <td>0</td>\n",
              "      <td>1</td>\n",
              "      <td>0</td>\n",
              "    </tr>\n",
              "    <tr>\n",
              "      <th>3</th>\n",
              "      <td>216750</td>\n",
              "      <td>1</td>\n",
              "      <td>0</td>\n",
              "      <td>0</td>\n",
              "      <td>1</td>\n",
              "      <td>0</td>\n",
              "      <td>0</td>\n",
              "      <td>1</td>\n",
              "      <td>0</td>\n",
              "    </tr>\n",
              "    <tr>\n",
              "      <th>4</th>\n",
              "      <td>204250</td>\n",
              "      <td>1</td>\n",
              "      <td>0</td>\n",
              "      <td>0</td>\n",
              "      <td>1</td>\n",
              "      <td>0</td>\n",
              "      <td>0</td>\n",
              "      <td>1</td>\n",
              "      <td>0</td>\n",
              "    </tr>\n",
              "    <tr>\n",
              "      <th>...</th>\n",
              "      <td>...</td>\n",
              "      <td>...</td>\n",
              "      <td>...</td>\n",
              "      <td>...</td>\n",
              "      <td>...</td>\n",
              "      <td>...</td>\n",
              "      <td>...</td>\n",
              "      <td>...</td>\n",
              "      <td>...</td>\n",
              "    </tr>\n",
              "    <tr>\n",
              "      <th>193</th>\n",
              "      <td>8230750</td>\n",
              "      <td>0</td>\n",
              "      <td>0</td>\n",
              "      <td>1</td>\n",
              "      <td>0</td>\n",
              "      <td>0</td>\n",
              "      <td>1</td>\n",
              "      <td>0</td>\n",
              "      <td>1</td>\n",
              "    </tr>\n",
              "    <tr>\n",
              "      <th>194</th>\n",
              "      <td>8462500</td>\n",
              "      <td>0</td>\n",
              "      <td>0</td>\n",
              "      <td>1</td>\n",
              "      <td>0</td>\n",
              "      <td>0</td>\n",
              "      <td>1</td>\n",
              "      <td>0</td>\n",
              "      <td>1</td>\n",
              "    </tr>\n",
              "    <tr>\n",
              "      <th>195</th>\n",
              "      <td>8668000</td>\n",
              "      <td>0</td>\n",
              "      <td>0</td>\n",
              "      <td>1</td>\n",
              "      <td>0</td>\n",
              "      <td>0</td>\n",
              "      <td>1</td>\n",
              "      <td>0</td>\n",
              "      <td>1</td>\n",
              "    </tr>\n",
              "    <tr>\n",
              "      <th>196</th>\n",
              "      <td>8837000</td>\n",
              "      <td>0</td>\n",
              "      <td>0</td>\n",
              "      <td>1</td>\n",
              "      <td>0</td>\n",
              "      <td>0</td>\n",
              "      <td>1</td>\n",
              "      <td>0</td>\n",
              "      <td>1</td>\n",
              "    </tr>\n",
              "    <tr>\n",
              "      <th>197</th>\n",
              "      <td>8468000</td>\n",
              "      <td>0</td>\n",
              "      <td>0</td>\n",
              "      <td>1</td>\n",
              "      <td>0</td>\n",
              "      <td>0</td>\n",
              "      <td>1</td>\n",
              "      <td>0</td>\n",
              "      <td>1</td>\n",
              "    </tr>\n",
              "  </tbody>\n",
              "</table>\n",
              "<p>198 rows × 9 columns</p>\n",
              "</div>"
            ],
            "text/plain": [
              "     n_persons  race_Asian  ...  sex_Men  sex_Women\n",
              "0       143000           1  ...        1          0\n",
              "1       149000           1  ...        1          0\n",
              "2       204500           1  ...        1          0\n",
              "3       216750           1  ...        1          0\n",
              "4       204250           1  ...        1          0\n",
              "..         ...         ...  ...      ...        ...\n",
              "193    8230750           0  ...        0          1\n",
              "194    8462500           0  ...        0          1\n",
              "195    8668000           0  ...        0          1\n",
              "196    8837000           0  ...        0          1\n",
              "197    8468000           0  ...        0          1\n",
              "\n",
              "[198 rows x 9 columns]"
            ]
          },
          "metadata": {},
          "execution_count": 5
        }
      ]
    },
    {
      "cell_type": "markdown",
      "metadata": {
        "id": "MsETR5y3N5zF"
      },
      "source": [
        "# **Regression lineaire**"
      ]
    },
    {
      "cell_type": "code",
      "metadata": {
        "colab": {
          "base_uri": "https://localhost:8080/"
        },
        "id": "zHzSFQFBzw8A",
        "outputId": "41beae50-2290-4f9e-c248-bf69feb15f8e"
      },
      "source": [
        "from sklearn.linear_model import LinearRegression\n",
        "from sklearn.metrics import mean_squared_error\n",
        "from sklearn.metrics import mean_absolute_error\n",
        "from sklearn.model_selection import GridSearchCV, TimeSeriesSplit\n",
        "from sklearn.metrics import r2_score\n",
        "t = Data.sort_values(['year'])\n",
        "t = t.reset_index()\n",
        "t= t.drop([\"index\"],axis=1)\n",
        "tintermediaire = pd.get_dummies(data=t[['year','race','age','sex','median_weekly_earn']])\n",
        "t2=tintermediaire.drop(['median_weekly_earn'],axis=1)\n",
        "X_all = t2[['race_Asian','race_Black or African American','race_White','age_16 to 24 years','age_25 to 54 years','age_55 years and over','sex_Women','sex_Men','year']].to_numpy()\n",
        "Y_all = tintermediaire['median_weekly_earn'].to_numpy()\n",
        "\n",
        "tcsv = TimeSeriesSplit(n_splits=10)\n",
        "moyLinCVT=0\n",
        "maeLinCVT=0\n",
        "for train_index, test_index in tcsv.split(t2.year):\n",
        "  #print(\"TRAIN:\",train_index, \"TEST\", test_index)\n",
        "  X_train_CVT,X_test_CVT = X_all[train_index],X_all[test_index]\n",
        "  Y_train_CVT, Y_test_CVT = Y_all[train_index],Y_all[test_index]\n",
        "\n",
        "  model2 = LinearRegression(normalize=True)\n",
        "  model2.fit(X_train_CVT,Y_train_CVT)\n",
        "  coeff_parameter2 = pd.DataFrame(model2.coef_,t2.columns,columns=['Coefficient'])\n",
        "  Y_predict_CVT = model2.predict(X_test_CVT)\n",
        "  #scores=cross_val_score()\n",
        "  #print(scores)\n",
        "  maeLinCVT += mean_absolute_error(Y_test_CVT,Y_predict_CVT)\n",
        "  moyLinCVT+=mean_squared_error(Y_test_CVT,Y_predict_CVT,squared=False)\n",
        "\n",
        "moyLinCVT = moyLinCVT/10\n",
        "maeLinCVT = maeLinCVT/10\n",
        "print(moyLinCVT)\n",
        "print(maeLinCVT)"
      ],
      "execution_count": 6,
      "outputs": [
        {
          "output_type": "stream",
          "name": "stdout",
          "text": [
            "92.25496579273297\n",
            "68.50990226337446\n"
          ]
        }
      ]
    },
    {
      "cell_type": "code",
      "metadata": {
        "id": "Traf9lPpUxFR"
      },
      "source": [
        "from sklearn.linear_model import LinearRegression\n",
        "from sklearn.metrics import mean_squared_error\n",
        "from sklearn.metrics import r2_score\n",
        "from sklearn.preprocessing import PolynomialFeatures\n",
        " \n",
        "def evalPolynonmialRegression(degree,X_train,X_test,Y_train,Y_test):\n",
        "    #entrainement du modèle\n",
        "    polynomial_features = PolynomialFeatures(degree=degree)\n",
        "    X_train_poly = polynomial_features.fit_transform(X_train)\n",
        "    X_test_poly = polynomial_features.fit_transform(X_test)\n",
        "    model = LinearRegression()\n",
        "    model.fit(X_train_poly, Y_train)\n",
        "    # Evaluation du training set\n",
        " \n",
        "    y_test_predict = model.predict(X_test_poly)\n",
        "    rmse = (np.sqrt(mean_squared_error(Y_test, y_test_predict)))\n",
        "    mae=mean_absolute_error(Y_test,y_test_predict)\n",
        "    r2 = r2_score(Y_test, y_test_predict)\n",
        "\n",
        "    return model,r2,rmse,mae"
      ],
      "execution_count": 7,
      "outputs": []
    },
    {
      "cell_type": "code",
      "metadata": {
        "colab": {
          "base_uri": "https://localhost:8080/"
        },
        "id": "J-BBmpZJVTYR",
        "outputId": "aa874406-69fc-4f83-9508-bd6c0fd37cc1"
      },
      "source": [
        "moyPolyTotal=0\n",
        "maePolyTotal=0\n",
        "for degre in range(1,6):\n",
        "  moyPoly=0\n",
        "  maePoly=0\n",
        "  for train_index, test_index in tcsv.split(t2.year):\n",
        "    X_train_CVT,X_test_CVT = X_all[train_index],X_all[test_index]\n",
        "    Y_train_CVT, Y_test_CVT = Y_all[train_index],Y_all[test_index]\n",
        "    m,r,mse,mae = evalPolynonmialRegression(degre,X_train_CVT,X_test_CVT,Y_train_CVT, Y_test_CVT)\n",
        "    moyPoly+=mse\n",
        "    maePoly+=mae\n",
        "  moyPoly=moyPoly/10\n",
        "  maePoly=maePoly/10\n",
        "  maePolyTotal+=maePoly\n",
        "  moyPolyTotal+=moyPoly\n",
        "  print(moyPoly)\n",
        "  print(maePoly)\n",
        "moyPolyTotal=moyPolyTotal/5\n",
        "maePolyTotal=maePolyTotal/5\n",
        "print(\"moyPolyTotal = \", moyPolyTotal)\n",
        "print(\"maePolyTotal = \", maePolyTotal)"
      ],
      "execution_count": 8,
      "outputs": [
        {
          "output_type": "stream",
          "name": "stdout",
          "text": [
            "88.11139545236884\n",
            "64.39646568195188\n",
            "37.73349886643097\n",
            "29.811013482252303\n",
            "2837824.450761107\n",
            "2837817.623886359\n",
            "133.37445941316543\n",
            "126.99986840516613\n",
            "13978074.17473806\n",
            "13978068.032042041\n",
            "moyPolyTotal =  3363231.5689705797\n",
            "maePolyTotal =  3363221.3726551933\n"
          ]
        }
      ]
    },
    {
      "cell_type": "code",
      "metadata": {
        "colab": {
          "base_uri": "https://localhost:8080/"
        },
        "id": "icpXJ5SlR52R",
        "outputId": "42bd5870-17cd-4eaf-d7a6-935cac7d79b9"
      },
      "source": [
        "\n",
        "from sklearn.model_selection import train_test_split\n",
        "from sklearn.linear_model import LinearRegression\n",
        "from sklearn.model_selection import cross_val_score\n",
        "from sklearn.model_selection import RepeatedKFold\n",
        "moyCV = 0\n",
        "maeCV = 0\n",
        "for i in range(10):\n",
        "  X_train_CV, X_test_CV, Y_train_CV, Y_test_CV = train_test_split(X_all, Y_all, test_size=0.4)\n",
        "\n",
        "  model = LinearRegression()\n",
        "  model.fit(X_train_CV,Y_train_CV)\n",
        "  cv = RepeatedKFold(n_splits=10, n_repeats=5)\n",
        "  cv_score =  cross_val_score(model, X_train_CV, Y_train_CV, cv=cv)\n",
        "  Y_predict_CV = model.predict(X_test_CV)\n",
        "  maeCV += mean_absolute_error(Y_test_CV,Y_predict_CV)\n",
        "  moyCV+=mean_squared_error(Y_test_CV,Y_predict_CV,squared=False)\n",
        "moyCV = moyCV/10\n",
        "maeCV = maeCV/10 \n",
        "print(moyCV)\n",
        "print(maeCV)"
      ],
      "execution_count": 9,
      "outputs": [
        {
          "output_type": "stream",
          "name": "stdout",
          "text": [
            "89.87237621611833\n",
            "70.5908216374637\n"
          ]
        }
      ]
    },
    {
      "cell_type": "code",
      "metadata": {
        "colab": {
          "base_uri": "https://localhost:8080/"
        },
        "id": "OnBrWoM8jP0i",
        "outputId": "396e6b31-9433-4733-8f72-a3db0bc3610e"
      },
      "source": [
        "from sklearn.model_selection import cross_val_score\n",
        "from sklearn.model_selection import train_test_split\n",
        "from sklearn.linear_model import LinearRegression\n",
        "from sklearn.model_selection import RepeatedKFold\n",
        "clf = LinearRegression(fit_intercept=True, normalize=True, copy_X=True, n_jobs=-1)\n",
        "clf.fit(X_train_CV,Y_train_CV)\n",
        "cv = RepeatedKFold(n_splits=10, n_repeats=5)\n",
        "cv_score =  cross_val_score(clf, X_train_CV, Y_train_CV, cv=cv)\n",
        "print(\"cross_val_score:\",cv_score)\n",
        "print(\"mean cross_val_score:\", sum(cv_score) / len(cv_score))\n",
        "y_pred = clf.predict(X_test_CV)\n",
        "score = clf.score(X_test_CV,Y_test_CV) \n",
        "# print(\"score:\", score)\n",
        "r2 = r2_score(Y_test_CV, y_pred)\n",
        "mse = mean_squared_error(Y_test_CV, y_pred,squared=False)\n",
        "mae = mean_absolute_error(Y_test_CV, y_pred)\n",
        "print(\"r2 score:\", r2)\n",
        "print(\"mse:\", mse)\n",
        "print(\"mae:\", mae)"
      ],
      "execution_count": 10,
      "outputs": [
        {
          "output_type": "stream",
          "name": "stdout",
          "text": [
            "cross_val_score: [0.72443866 0.85421111 0.83261174 0.93980206 0.8531718  0.84555412\n",
            " 0.82048675 0.88622663 0.87524791 0.92878125 0.89079551 0.92833809\n",
            " 0.95489823 0.87645275 0.82594684 0.83080053 0.88908871 0.81491917\n",
            " 0.91771523 0.81311895 0.84431509 0.92943691 0.85718304 0.83682519\n",
            " 0.82926026 0.89817845 0.72615913 0.90085114 0.87000036 0.86981244\n",
            " 0.91390223 0.89247785 0.84971986 0.79150785 0.80079934 0.80352026\n",
            " 0.86623281 0.90035159 0.77141283 0.84813638 0.80408686 0.82244594\n",
            " 0.91238745 0.86000017 0.86408874 0.92465118 0.8573688  0.79755251\n",
            " 0.93937234 0.50272713]\n",
            "mean cross_val_score: 0.8517474030972094\n",
            "r2 score: 0.833023309867202\n",
            "mse: 88.94460178954088\n",
            "mae: 74.3625\n"
          ]
        }
      ]
    },
    {
      "cell_type": "code",
      "metadata": {
        "colab": {
          "base_uri": "https://localhost:8080/",
          "height": 335
        },
        "id": "wNhT1fD_UDM-",
        "outputId": "943edad5-85df-4406-ef5b-e51e87fc1bdb"
      },
      "source": [
        "sns.regplot(Y_test_CV,Y_predict_CV)"
      ],
      "execution_count": 11,
      "outputs": [
        {
          "output_type": "stream",
          "name": "stderr",
          "text": [
            "/usr/local/lib/python3.7/dist-packages/seaborn/_decorators.py:43: FutureWarning: Pass the following variables as keyword args: x, y. From version 0.12, the only valid positional argument will be `data`, and passing other arguments without an explicit keyword will result in an error or misinterpretation.\n",
            "  FutureWarning\n"
          ]
        },
        {
          "output_type": "execute_result",
          "data": {
            "text/plain": [
              "<matplotlib.axes._subplots.AxesSubplot at 0x7f58df52e990>"
            ]
          },
          "metadata": {},
          "execution_count": 11
        },
        {
          "output_type": "display_data",
          "data": {
            "image/png": "[encoded data removed]",
            "text/plain": [
              "<Figure size 432x288 with 1 Axes>"
            ]
          },
          "metadata": {
            "needs_background": "light"
          }
        }
      ]
    },
    {
      "cell_type": "markdown",
      "metadata": {
        "id": "HHEINftZphfX"
      },
      "source": [
        "# **Regression k plus proche voisin**"
      ]
    },
    {
      "cell_type": "code",
      "metadata": {
        "colab": {
          "base_uri": "https://localhost:8080/"
        },
        "id": "ouz09fDn0ZFh",
        "outputId": "9a97d56d-44c2-4aa0-fb03-8b1486725296"
      },
      "source": [
        "from sklearn.neighbors import KNeighborsRegressor\n",
        "from sklearn.metrics import r2_score\n",
        "from sklearn.model_selection import GridSearchCV, TimeSeriesSplit\n",
        "moykpp=0\n",
        "maekpp=0\n",
        "param_grid = {'n_neighbors':np.arange(1,15)}\n",
        "for train_index, test_index in tcsv.split(t2.year):\n",
        "  #print(\"TRAIN:\",train_index, \"TEST\", test_index)\n",
        "  X_train_CVT_kpp,X_test_CVT_kpp = X_all[train_index],X_all[test_index]\n",
        "  Y_train_CVT_kpp, Y_test_CVT_kpp = Y_all[train_index],Y_all[test_index]\n",
        "  bestValueKppSq = 1000000000\n",
        "  bestValueKppAbs = 0\n",
        "  for nbNeighbors in range(1,19):\n",
        "    knr = KNeighborsRegressor(n_neighbors=nbNeighbors)\n",
        "    knr.fit(X_train_CVT_kpp, Y_train_CVT_kpp)\n",
        "    Y_predict_CVT_kpp = knr.predict(X_test_CVT_kpp)\n",
        "    if (bestValueKppSq > mean_squared_error(Y_test_CVT_kpp,Y_predict_CVT_kpp,squared=False)):\n",
        "      bestValueKppSq = mean_squared_error(Y_test_CVT_kpp,Y_predict_CVT_kpp,squared=False)\n",
        "      bestValueKppAbs = mean_absolute_error(Y_test_CVT_kpp,Y_predict_CVT_kpp)\n",
        "  moykpp += bestValueKppSq\n",
        "  maekpp += bestValueKppAbs\n",
        "moykpp = moykpp/10\n",
        "maekpp = maekpp/10\n",
        "print(moykpp)\n",
        "print(maekpp)"
      ],
      "execution_count": 12,
      "outputs": [
        {
          "output_type": "stream",
          "name": "stdout",
          "text": [
            "39.26242451869409\n",
            "31.72222222222222\n"
          ]
        }
      ]
    },
    {
      "cell_type": "markdown",
      "metadata": {
        "id": "DbFOT41lYGb7"
      },
      "source": [
        "# **Random Forest**"
      ]
    },
    {
      "cell_type": "code",
      "metadata": {
        "colab": {
          "base_uri": "https://localhost:8080/"
        },
        "id": "S0tyYG4LVszQ",
        "outputId": "51de31e2-9ea0-4292-a19c-8476bef75a79"
      },
      "source": [
        "print(tintermediaire)\n",
        "for i in range(2010,2020):\n",
        "  \n",
        "  print(tintermediaire.median_weekly_earn[(tintermediaire.year==i)&(tintermediaire.race_White==1)&(tintermediaire.sex_Women==1)&(tintermediaire['age_25 to 54 years']==1)])"
      ],
      "execution_count": 13,
      "outputs": [
        {
          "output_type": "stream",
          "name": "stdout",
          "text": [
            "     year  median_weekly_earn  ...  sex_Men  sex_Women\n",
            "0    2010              486.00  ...        1          0\n",
            "1    2010              655.75  ...        1          0\n",
            "2    2010              455.75  ...        1          0\n",
            "3    2010              878.00  ...        1          0\n",
            "4    2010              402.50  ...        1          0\n",
            "..    ...                 ...  ...      ...        ...\n",
            "193  2020             1323.50  ...        1          0\n",
            "194  2020             1527.50  ...        1          0\n",
            "195  2020              729.50  ...        1          0\n",
            "196  2020              590.75  ...        0          1\n",
            "197  2020              962.75  ...        0          1\n",
            "\n",
            "[198 rows x 10 columns]\n",
            "16    714.5\n",
            "Name: median_weekly_earn, dtype: float64\n",
            "22    730.0\n",
            "Name: median_weekly_earn, dtype: float64\n",
            "38    735.0\n",
            "Name: median_weekly_earn, dtype: float64\n",
            "58    746.75\n",
            "Name: median_weekly_earn, dtype: float64\n",
            "84    762.75\n",
            "Name: median_weekly_earn, dtype: float64\n",
            "107    773.25\n",
            "Name: median_weekly_earn, dtype: float64\n",
            "121    803.0\n",
            "Name: median_weekly_earn, dtype: float64\n",
            "127    825.0\n",
            "Name: median_weekly_earn, dtype: float64\n",
            "160    851.5\n",
            "Name: median_weekly_earn, dtype: float64\n",
            "165    880.5\n",
            "Name: median_weekly_earn, dtype: float64\n"
          ]
        }
      ]
    },
    {
      "cell_type": "code",
      "metadata": {
        "colab": {
          "base_uri": "https://localhost:8080/"
        },
        "id": "sFTPQ2dr4fo-",
        "outputId": "a1d888b5-3870-410d-b288-f3ff8f37a6a6"
      },
      "source": [
        "from sklearn.ensemble import RandomForestRegressor\n",
        "from sklearn.model_selection import cross_val_score\n",
        "from sklearn.metrics import r2_score\n",
        "from sklearn.model_selection import GridSearchCV\n",
        "\n",
        "param_grid = {'n_estimators':np.arange(1,201,5), \n",
        "              #'max_leaf_nodes' : np.arange(10,75) }\n",
        "              'max_depth':np.arange(1,20), \n",
        "              'max_features':np.arange(2,10)\n",
        "              }\n",
        "maeArbre=0\n",
        "moyArbre=0\n",
        "Y0test=[]\n",
        "Y0predict=[]\n",
        "for train_index, test_index in tcsv.split(t2.year):\n",
        "  #print(\"TRAIN:\",train_index, \"TEST\", test_index)\n",
        "  X_train_CVT_arbre,X_test_CVT_arbre = X_all[train_index],X_all[test_index]\n",
        "  Y_train_CVT_arbre, Y_test_CVT_arbre = Y_all[train_index],Y_all[test_index]\n",
        "       \n",
        "  # D'abord, chercher une bonne valeur pour le paramètre 'n_estimators' (nombre d'arbres)\n",
        "  bestValueRFSq=5000000\n",
        "  bestValueRFAbs = 0\n",
        "  Y0test.append(Y_train_CVT_arbre[-1])\n",
        "\n",
        "  for nbEstimator in range(1,100):\n",
        "    rfr = RandomForestRegressor(n_estimators=nbEstimator)\n",
        "    rfr.fit(X_train_CVT_arbre, Y_train_CVT_arbre)\n",
        "    #print(rfr.get_params(deep=True))\n",
        "    Y_predict_CVT_arbre = rfr.predict(X_test_CVT_arbre)\n",
        "\n",
        "    if(bestValueRFSq > mean_squared_error(Y_test_CVT_arbre,Y_predict_CVT_arbre,squared=False)):\n",
        "      bestValueRFSq = mean_squared_error(Y_test_CVT_arbre,Y_predict_CVT_arbre,squared=False)\n",
        "      bestValueRFAbs = mean_absolute_error(Y_test_CVT_arbre,Y_predict_CVT_arbre)\n",
        "      Y_predicts=Y_predict_CVT_arbre\n",
        "  Y0predict.append(Y_predicts[-1])\n",
        "  moyArbre += bestValueRFSq\n",
        "  maeArbre += bestValueRFAbs\n",
        "\n",
        "\n",
        "  \n",
        "moyArbre = moyArbre/10\n",
        "maeArbre=maeArbre/10\n",
        "print(moyArbre)\n",
        "print(maeArbre)"
      ],
      "execution_count": 14,
      "outputs": [
        {
          "output_type": "stream",
          "name": "stdout",
          "text": [
            "39.13442403313299\n",
            "31.090852973596846\n"
          ]
        }
      ]
    },
    {
      "cell_type": "code",
      "metadata": {
        "colab": {
          "base_uri": "https://localhost:8080/"
        },
        "id": "MUxr9E3cVCdK",
        "outputId": "fe58758f-f79b-4f1b-aa94-333d6f040751"
      },
      "source": [
        "  print(Y0test)\n",
        "  print(Y0predict)"
      ],
      "execution_count": 15,
      "outputs": [
        {
          "output_type": "stream",
          "name": "stdout",
          "text": [
            "[427.5, 388.5, 957.0, 954.75, 409.25, 773.25, 1227.25, 828.5, 480.0, 485.0]\n",
            "[420.60625, 906.8333333333334, 983.6458333333334, 394.42, 765.6029411764706, 1179.861111111111, 848.75, 455.5, 477.83125, 888.3125]\n"
          ]
        }
      ]
    },
    {
      "cell_type": "markdown",
      "metadata": {
        "id": "JqV77R2U_yT-"
      },
      "source": [
        "# Features les plus importantes"
      ]
    },
    {
      "cell_type": "code",
      "metadata": {
        "colab": {
          "base_uri": "https://localhost:8080/"
        },
        "id": "fw0zS3lsGEk3",
        "outputId": "3f632e29-89cc-4516-b3bc-cd6d767f4668"
      },
      "source": [
        "list(rfr.feature_importances_)"
      ],
      "execution_count": 16,
      "outputs": [
        {
          "output_type": "execute_result",
          "data": {
            "text/plain": [
              "[0.024112066513424325,\n",
              " 0.15310883219027638,\n",
              " 0.009911479188132283,\n",
              " 0.5680304827273447,\n",
              " 0.012393469367120448,\n",
              " 0.012600736941916064,\n",
              " 0.05670172818943999,\n",
              " 0.06956631695218857,\n",
              " 0.09357488793015718]"
            ]
          },
          "metadata": {},
          "execution_count": 16
        }
      ]
    },
    {
      "cell_type": "code",
      "metadata": {
        "colab": {
          "base_uri": "https://localhost:8080/",
          "height": 664
        },
        "id": "ETiAAMxmDS6V",
        "outputId": "24ec1158-3170-4972-dcc0-52c644bd4fd7"
      },
      "source": [
        "sorted_importances, sorted_columns = zip(*sorted(zip(rfr.feature_importances_, t2.columns), reverse=True))\n",
        "df_importance_rf = pd.DataFrame({'Variables': sorted_columns, 'RF permutation Importance (test set)': sorted_importances})\n",
        "\n",
        "sns.barplot('RF permutation Importance (test set)', 'Variables', data = df_importance_rf, orient='h')\n",
        "plt.title('Importance des variables dans RF (train set)')\n",
        "plt.xticks(fontsize='large')\n",
        "plt.xlabel('RF permutation importance',fontsize='large')\n",
        "plt.yticks(fontsize='large')\n",
        "plt.ylabel('Variables',fontsize='large')\n",
        "plt.show()\n",
        "df_importance_rf"
      ],
      "execution_count": 17,
      "outputs": [
        {
          "output_type": "stream",
          "name": "stderr",
          "text": [
            "/usr/local/lib/python3.7/dist-packages/seaborn/_decorators.py:43: FutureWarning: Pass the following variables as keyword args: x, y. From version 0.12, the only valid positional argument will be `data`, and passing other arguments without an explicit keyword will result in an error or misinterpretation.\n",
            "  FutureWarning\n"
          ]
        },
        {
          "output_type": "display_data",
          "data": {
            "image/png": "[encoded data removed]",
            "text/plain": [
              "<Figure size 432x288 with 1 Axes>"
            ]
          },
          "metadata": {
            "needs_background": "light"
          }
        },
        {
          "output_type": "execute_result",
          "data": {
            "text/html": [
              "<div>\n",
              "<style scoped>\n",
              "    .dataframe tbody tr th:only-of-type {\n",
              "        vertical-align: middle;\n",
              "    }\n",
              "\n",
              "    .dataframe tbody tr th {\n",
              "        vertical-align: top;\n",
              "    }\n",
              "\n",
              "    .dataframe thead th {\n",
              "        text-align: right;\n",
              "    }\n",
              "</style>\n",
              "<table border=\"1\" class=\"dataframe\">\n",
              "  <thead>\n",
              "    <tr style=\"text-align: right;\">\n",
              "      <th></th>\n",
              "      <th>Variables</th>\n",
              "      <th>RF permutation Importance (test set)</th>\n",
              "    </tr>\n",
              "  </thead>\n",
              "  <tbody>\n",
              "    <tr>\n",
              "      <th>0</th>\n",
              "      <td>race_White</td>\n",
              "      <td>0.568030</td>\n",
              "    </tr>\n",
              "    <tr>\n",
              "      <th>1</th>\n",
              "      <td>race_Asian</td>\n",
              "      <td>0.153109</td>\n",
              "    </tr>\n",
              "    <tr>\n",
              "      <th>2</th>\n",
              "      <td>sex_Women</td>\n",
              "      <td>0.093575</td>\n",
              "    </tr>\n",
              "    <tr>\n",
              "      <th>3</th>\n",
              "      <td>sex_Men</td>\n",
              "      <td>0.069566</td>\n",
              "    </tr>\n",
              "    <tr>\n",
              "      <th>4</th>\n",
              "      <td>age_55 years and over</td>\n",
              "      <td>0.056702</td>\n",
              "    </tr>\n",
              "    <tr>\n",
              "      <th>5</th>\n",
              "      <td>year</td>\n",
              "      <td>0.024112</td>\n",
              "    </tr>\n",
              "    <tr>\n",
              "      <th>6</th>\n",
              "      <td>age_25 to 54 years</td>\n",
              "      <td>0.012601</td>\n",
              "    </tr>\n",
              "    <tr>\n",
              "      <th>7</th>\n",
              "      <td>age_16 to 24 years</td>\n",
              "      <td>0.012393</td>\n",
              "    </tr>\n",
              "    <tr>\n",
              "      <th>8</th>\n",
              "      <td>race_Black or African American</td>\n",
              "      <td>0.009911</td>\n",
              "    </tr>\n",
              "  </tbody>\n",
              "</table>\n",
              "</div>"
            ],
            "text/plain": [
              "                        Variables  RF permutation Importance (test set)\n",
              "0                      race_White                              0.568030\n",
              "1                      race_Asian                              0.153109\n",
              "2                       sex_Women                              0.093575\n",
              "3                         sex_Men                              0.069566\n",
              "4           age_55 years and over                              0.056702\n",
              "5                            year                              0.024112\n",
              "6              age_25 to 54 years                              0.012601\n",
              "7              age_16 to 24 years                              0.012393\n",
              "8  race_Black or African American                              0.009911"
            ]
          },
          "metadata": {},
          "execution_count": 17
        }
      ]
    },
    {
      "cell_type": "code",
      "metadata": {
        "colab": {
          "base_uri": "https://localhost:8080/",
          "height": 388
        },
        "id": "_tVzo13osnsI",
        "outputId": "3a2751e1-1867-468b-8af1-76a9b82247db"
      },
      "source": [
        "# Calculate permutation importance for KNN Regression\n",
        "\n",
        "from sklearn.inspection import permutation_importance\n",
        "results = permutation_importance(rfr, X_train_CVT_arbre, Y_train_CVT_arbre, scoring='r2')\n",
        "importance = results.importances_mean\n",
        "sorted_importances, sorted_columns = zip(*sorted(zip(importance, t2.columns), reverse=True))\n",
        "df_importance_rf = pd.DataFrame({'Variables': sorted_columns, 'RF permutation Importance (train set)': sorted_importances})\n",
        "\n",
        "sns.barplot('RF permutation Importance (train set)', 'Variables', data = df_importance_rf, orient='h')\n",
        "plt.title('Importance des variables dans RF (train set)')\n",
        "plt.xticks(fontsize='large')\n",
        "plt.xlabel('RF permutation importance',fontsize='large')\n",
        "plt.yticks(fontsize='large')\n",
        "plt.ylabel('Variables',fontsize='large')\n",
        "plt.show()\n",
        "df_importance_rf\n",
        "print(X_train_CVT_arbre.shape)\n",
        "print(Y_train_CVT_arbre.shape)"
      ],
      "execution_count": 18,
      "outputs": [
        {
          "output_type": "stream",
          "name": "stderr",
          "text": [
            "/usr/local/lib/python3.7/dist-packages/seaborn/_decorators.py:43: FutureWarning: Pass the following variables as keyword args: x, y. From version 0.12, the only valid positional argument will be `data`, and passing other arguments without an explicit keyword will result in an error or misinterpretation.\n",
            "  FutureWarning\n"
          ]
        },
        {
          "output_type": "display_data",
          "data": {
            "image/png": "[encoded data removed]",
            "text/plain": [
              "<Figure size 432x288 with 1 Axes>"
            ]
          },
          "metadata": {
            "needs_background": "light"
          }
        },
        {
          "output_type": "stream",
          "name": "stdout",
          "text": [
            "(180, 9)\n",
            "(180,)\n"
          ]
        }
      ]
    },
    {
      "cell_type": "code",
      "metadata": {
        "colab": {
          "base_uri": "https://localhost:8080/"
        },
        "id": "lxSLO-wQRFo1",
        "outputId": "7736617e-d56c-4bd9-f18e-15ad779b6668"
      },
      "source": [
        "moyPoly=0\n",
        "maePoly=0\n",
        "for train_index, test_index in tcsv.split(t2.year):\n",
        "  X_train_CVT,X_test_CVT = X_all[train_index],X_all[test_index]\n",
        "  Y_train_CVT, Y_test_CVT = Y_all[train_index],Y_all[test_index]\n",
        "  m,r,mse,mae = evalPolynonmialRegression(2,X_train_CVT,X_test_CVT,Y_train_CVT, Y_test_CVT)\n",
        "  moyPoly+=mse\n",
        "  maePoly+=mae\n",
        "moyPoly=moyPoly/10\n",
        "maePoly=maePoly/10\n",
        "print(moyPoly)\n",
        "print(maePoly)\n",
        "print(X_train_CVT.shape)\n",
        "print(Y_train_CVT.shape)"
      ],
      "execution_count": 19,
      "outputs": [
        {
          "output_type": "stream",
          "name": "stdout",
          "text": [
            "37.73349886643097\n",
            "29.811013482252303\n",
            "(180, 9)\n",
            "(180,)\n"
          ]
        }
      ]
    },
    {
      "cell_type": "code",
      "metadata": {
        "colab": {
          "base_uri": "https://localhost:8080/",
          "height": 388
        },
        "id": "Z2AUmnrUQ0AL",
        "outputId": "2e7a4f53-0e43-43e6-986d-90b8bdee2380"
      },
      "source": [
        "# Calculate permutation importance for P2\n",
        "\n",
        "from sklearn.inspection import permutation_importance\n",
        "results = permutation_importance(rfr, X_test_CVT_arbre, Y_test_CVT_arbre, scoring='r2')\n",
        "importance = results.importances_mean\n",
        "sorted_importances, sorted_columns = zip(*sorted(zip(importance, t2.columns), reverse=True))\n",
        "df_importance_rf = pd.DataFrame({'Variables': sorted_columns, 'P2 permutation Importance (train set)': sorted_importances})\n",
        "\n",
        "sns.barplot('P2 permutation Importance (train set)', 'Variables', data = df_importance_rf, orient='h')\n",
        "plt.title('Importance des variables dans P2 (train set)')\n",
        "plt.xticks(fontsize='large')\n",
        "plt.xlabel('P2 permutation importance',fontsize='large')\n",
        "plt.yticks(fontsize='large')\n",
        "plt.ylabel('Variables',fontsize='large')\n",
        "plt.show()\n",
        "df_importance_rf\n",
        "print(X_train_CVT_arbre.shape)\n",
        "print(Y_train_CVT_arbre.shape)"
      ],
      "execution_count": 20,
      "outputs": [
        {
          "output_type": "stream",
          "name": "stderr",
          "text": [
            "/usr/local/lib/python3.7/dist-packages/seaborn/_decorators.py:43: FutureWarning: Pass the following variables as keyword args: x, y. From version 0.12, the only valid positional argument will be `data`, and passing other arguments without an explicit keyword will result in an error or misinterpretation.\n",
            "  FutureWarning\n"
          ]
        },
        {
          "output_type": "display_data",
          "data": {
            "image/png": "[encoded data removed]",
            "text/plain": [
              "<Figure size 432x288 with 1 Axes>"
            ]
          },
          "metadata": {
            "needs_background": "light"
          }
        },
        {
          "output_type": "stream",
          "name": "stdout",
          "text": [
            "(180, 9)\n",
            "(180,)\n"
          ]
        }
      ]
    },
    {
      "cell_type": "markdown",
      "metadata": {
        "id": "QGV6jl7sBR9A"
      },
      "source": [
        "#  Methode d'analyse de Série Temporelle\n",
        "SARIMA"
      ]
    },
    {
      "cell_type": "code",
      "metadata": {
        "colab": {
          "base_uri": "https://localhost:8080/",
          "height": 357
        },
        "id": "if3jggeBEMUi",
        "outputId": "9cf355ef-9c19-4df6-db1f-708c463afa7d"
      },
      "source": [
        "!pip3 install --user scipy==1.2.0"
      ],
      "execution_count": 21,
      "outputs": [
        {
          "output_type": "stream",
          "name": "stdout",
          "text": [
            "Collecting scipy==1.2.0\n",
            "  Using cached scipy-1.2.0-cp37-cp37m-manylinux1_x86_64.whl (26.6 MB)\n",
            "Requirement already satisfied: numpy>=1.8.2 in /usr/local/lib/python3.7/dist-packages (from scipy==1.2.0) (1.19.5)\n",
            "Installing collected packages: scipy\n",
            "  Attempting uninstall: scipy\n",
            "    Found existing installation: scipy 1.4.0\n",
            "    Uninstalling scipy-1.4.0:\n",
            "      Successfully uninstalled scipy-1.4.0\n",
            "\u001b[31mERROR: pip's dependency resolver does not currently take into account all the packages that are installed. This behaviour is the source of the following dependency conflicts.\n",
            "statsmodels 0.13.0 requires scipy>=1.3, but you have scipy 1.2.0 which is incompatible.\n",
            "pmdarima 1.8.3 requires scipy>=1.3.2, but you have scipy 1.2.0 which is incompatible.\n",
            "jax 0.2.21 requires scipy>=1.2.1, but you have scipy 1.2.0 which is incompatible.\n",
            "albumentations 0.1.12 requires imgaug<0.2.7,>=0.2.5, but you have imgaug 0.2.9 which is incompatible.\u001b[0m\n",
            "Successfully installed scipy-1.2.0\n"
          ]
        },
        {
          "output_type": "display_data",
          "data": {
            "application/vnd.colab-display-data+json": {
              "pip_warning": {
                "packages": [
                  "scipy"
                ]
              }
            }
          },
          "metadata": {}
        }
      ]
    },
    {
      "cell_type": "code",
      "metadata": {
        "colab": {
          "base_uri": "https://localhost:8080/",
          "height": 508
        },
        "id": "IP9zynOJEBC6",
        "outputId": "a54e2af3-4d1d-4ba1-b035-9d2290a654d7"
      },
      "source": [
        "!pip install pmdarima"
      ],
      "execution_count": 22,
      "outputs": [
        {
          "output_type": "stream",
          "name": "stdout",
          "text": [
            "Requirement already satisfied: pmdarima in /usr/local/lib/python3.7/dist-packages (1.8.3)\n",
            "Requirement already satisfied: statsmodels!=0.12.0,>=0.11 in /usr/local/lib/python3.7/dist-packages (from pmdarima) (0.13.0)\n",
            "Requirement already satisfied: setuptools!=50.0.0,>=38.6.0 in /usr/local/lib/python3.7/dist-packages (from pmdarima) (57.4.0)\n",
            "Requirement already satisfied: pandas>=0.19 in /usr/local/lib/python3.7/dist-packages (from pmdarima) (1.1.5)\n",
            "Collecting scipy>=1.3.2\n",
            "  Using cached scipy-1.7.1-cp37-cp37m-manylinux_2_5_x86_64.manylinux1_x86_64.whl (28.5 MB)\n",
            "Requirement already satisfied: urllib3 in /usr/local/lib/python3.7/dist-packages (from pmdarima) (1.24.3)\n",
            "Requirement already satisfied: numpy>=1.19.3 in /usr/local/lib/python3.7/dist-packages (from pmdarima) (1.19.5)\n",
            "Requirement already satisfied: Cython!=0.29.18,>=0.29 in /usr/local/lib/python3.7/dist-packages (from pmdarima) (0.29.24)\n",
            "Requirement already satisfied: scikit-learn>=0.22 in /usr/local/lib/python3.7/dist-packages (from pmdarima) (0.22.2.post1)\n",
            "Requirement already satisfied: joblib>=0.11 in /usr/local/lib/python3.7/dist-packages (from pmdarima) (1.0.1)\n",
            "Requirement already satisfied: python-dateutil>=2.7.3 in /usr/local/lib/python3.7/dist-packages (from pandas>=0.19->pmdarima) (2.8.2)\n",
            "Requirement already satisfied: pytz>=2017.2 in /usr/local/lib/python3.7/dist-packages (from pandas>=0.19->pmdarima) (2018.9)\n",
            "Requirement already satisfied: six>=1.5 in /usr/local/lib/python3.7/dist-packages (from python-dateutil>=2.7.3->pandas>=0.19->pmdarima) (1.15.0)\n",
            "Requirement already satisfied: patsy>=0.5.2 in /usr/local/lib/python3.7/dist-packages (from statsmodels!=0.12.0,>=0.11->pmdarima) (0.5.2)\n",
            "Installing collected packages: scipy\n",
            "  Attempting uninstall: scipy\n",
            "    Found existing installation: scipy 1.2.0\n",
            "    Uninstalling scipy-1.2.0:\n",
            "      Successfully uninstalled scipy-1.2.0\n",
            "\u001b[31mERROR: pip's dependency resolver does not currently take into account all the packages that are installed. This behaviour is the source of the following dependency conflicts.\n",
            "albumentations 0.1.12 requires imgaug<0.2.7,>=0.2.5, but you have imgaug 0.2.9 which is incompatible.\u001b[0m\n",
            "Successfully installed scipy-1.7.1\n"
          ]
        },
        {
          "output_type": "display_data",
          "data": {
            "application/vnd.colab-display-data+json": {
              "pip_warning": {
                "packages": [
                  "scipy"
                ]
              }
            }
          },
          "metadata": {}
        }
      ]
    },
    {
      "cell_type": "code",
      "metadata": {
        "colab": {
          "base_uri": "https://localhost:8080/"
        },
        "id": "MZlxgQnEE7nd",
        "outputId": "649ed621-1b0e-4309-8992-db1b2322375d"
      },
      "source": [
        "!sudo apt-get install scipy"
      ],
      "execution_count": 28,
      "outputs": [
        {
          "output_type": "stream",
          "name": "stdout",
          "text": [
            "Reading package lists... Done\n",
            "Building dependency tree       \n",
            "Reading state information... Done\n",
            "E: Unable to locate package scipy\n"
          ]
        }
      ]
    },
    {
      "cell_type": "code",
      "metadata": {
        "colab": {
          "base_uri": "https://localhost:8080/"
        },
        "id": "vROhPFksF5TR",
        "outputId": "11718ee4-ff0d-48fe-f451-96a7995e3070"
      },
      "source": [
        "!pip install python-scipy"
      ],
      "execution_count": 24,
      "outputs": [
        {
          "output_type": "stream",
          "name": "stdout",
          "text": [
            "\u001b[31mERROR: Could not find a version that satisfies the requirement python-scipy (from versions: none)\u001b[0m\n",
            "\u001b[31mERROR: No matching distribution found for python-scipy\u001b[0m\n"
          ]
        }
      ]
    },
    {
      "cell_type": "code",
      "metadata": {
        "colab": {
          "base_uri": "https://localhost:8080/"
        },
        "id": "_-t0N_JHFWSQ",
        "outputId": "4ad85f23-985e-4a8d-a616-aa723ecdf77b"
      },
      "source": [
        "\n",
        "!sudo apt-get install scipy.fftpack"
      ],
      "execution_count": 25,
      "outputs": [
        {
          "output_type": "stream",
          "name": "stdout",
          "text": [
            "Reading package lists... Done\n",
            "Building dependency tree       \n",
            "Reading state information... Done\n",
            "E: Unable to locate package scipy.fftpack\n",
            "E: Couldn't find any package by glob 'scipy.fftpack'\n",
            "E: Couldn't find any package by regex 'scipy.fftpack'\n"
          ]
        }
      ]
    },
    {
      "cell_type": "code",
      "metadata": {
        "colab": {
          "base_uri": "https://localhost:8080/",
          "height": 558
        },
        "id": "uktqTxv2BdiE",
        "outputId": "4fb3c002-a81b-4eb3-acb1-d6e213bcca11"
      },
      "source": [
        "import numpy as np\n",
        "import scipy\n",
        "from sklearn.model_selection import TimeSeriesSplit\n",
        "from subprocess import check_output\n",
        "import seaborn as sns\n",
        "import matplotlib.pyplot as plt\n",
        "import warnings\n",
        "from pandas.plotting import lag_plot\n",
        "from pandas import datetime\n",
        "from statsmodels.tsa.arima_model import ARIMA\n",
        "from sklearn.metrics import mean_squared_error,mean_absolute_error\n",
        "\n",
        "\n",
        "from pandas.plotting import register_matplotlib_converters\n",
        "from statsmodels.tsa.statespace.sarimax import SARIMAX\n",
        "import pmdarima as pm\n",
        "\n",
        "\n",
        "register_matplotlib_converters()\n",
        "warnings.filterwarnings(\"ignore\")\n",
        "def get_stationarity(timeseries):\n",
        "    \n",
        "    # rolling statistics\n",
        "    rolling_mean = timeseries.rolling(window=4).mean()\n",
        "    rolling_std = timeseries.rolling(window=4).std()\n",
        "    print(rolling_mean)\n",
        "    # rolling statistics plot\n",
        "    original = plt.plot(timeseries, color='blue', label='Original')\n",
        "    mean = plt.plot(rolling_mean, color='red', label='Rolling Mean')\n",
        "    std = plt.plot(rolling_std, color='black', label='Rolling Std')\n",
        "    plt.legend(loc='best')\n",
        "    plt.title('Rolling Mean & Standard Deviation')\n",
        "    plt.show()\n",
        "    \n",
        "    # Dickey–Fuller test:\n",
        "    result = adfuller(timeseries)\n",
        "    print('ADF Statistic: {}'.format(result[0]))\n",
        "    print('p-value: {}'.format(result[1]))\n",
        "    print('Critical Values:')\n",
        "    for key, value in result[4].items():\n",
        "        print('\\t{}: {}'.format(key, value))\n",
        "\n"
      ],
      "execution_count": 29,
      "outputs": [
        {
          "output_type": "stream",
          "name": "stderr",
          "text": [
            "/usr/local/lib/python3.7/dist-packages/ipykernel_launcher.py:9: FutureWarning: The pandas.datetime class is deprecated and will be removed from pandas in a future version. Import from datetime module instead.\n",
            "  if __name__ == '__main__':\n"
          ]
        },
        {
          "output_type": "error",
          "ename": "ModuleNotFoundError",
          "evalue": "ignored",
          "traceback": [
            "\u001b[0;31m---------------------------------------------------------------------------\u001b[0m",
            "\u001b[0;31mModuleNotFoundError\u001b[0m                       Traceback (most recent call last)",
            "\u001b[0;32m<ipython-input-29-ccda142d5447>\u001b[0m in \u001b[0;36m<module>\u001b[0;34m()\u001b[0m\n\u001b[1;32m     14\u001b[0m \u001b[0;32mfrom\u001b[0m \u001b[0mpandas\u001b[0m\u001b[0;34m.\u001b[0m\u001b[0mplotting\u001b[0m \u001b[0;32mimport\u001b[0m \u001b[0mregister_matplotlib_converters\u001b[0m\u001b[0;34m\u001b[0m\u001b[0;34m\u001b[0m\u001b[0m\n\u001b[1;32m     15\u001b[0m \u001b[0;32mfrom\u001b[0m \u001b[0mstatsmodels\u001b[0m\u001b[0;34m.\u001b[0m\u001b[0mtsa\u001b[0m\u001b[0;34m.\u001b[0m\u001b[0mstatespace\u001b[0m\u001b[0;34m.\u001b[0m\u001b[0msarimax\u001b[0m \u001b[0;32mimport\u001b[0m \u001b[0mSARIMAX\u001b[0m\u001b[0;34m\u001b[0m\u001b[0;34m\u001b[0m\u001b[0m\n\u001b[0;32m---> 16\u001b[0;31m \u001b[0;32mimport\u001b[0m \u001b[0mpmdarima\u001b[0m \u001b[0;32mas\u001b[0m \u001b[0mpm\u001b[0m\u001b[0;34m\u001b[0m\u001b[0;34m\u001b[0m\u001b[0m\n\u001b[0m\u001b[1;32m     17\u001b[0m \u001b[0;34m\u001b[0m\u001b[0m\n\u001b[1;32m     18\u001b[0m \u001b[0;34m\u001b[0m\u001b[0m\n",
            "\u001b[0;32m/usr/local/lib/python3.7/dist-packages/pmdarima/__init__.py\u001b[0m in \u001b[0;36m<module>\u001b[0;34m()\u001b[0m\n\u001b[1;32m     49\u001b[0m \u001b[0;34m\u001b[0m\u001b[0m\n\u001b[1;32m     50\u001b[0m     \u001b[0;31m# Stuff we want at top-level\u001b[0m\u001b[0;34m\u001b[0m\u001b[0;34m\u001b[0m\u001b[0;34m\u001b[0m\u001b[0m\n\u001b[0;32m---> 51\u001b[0;31m     \u001b[0;32mfrom\u001b[0m \u001b[0;34m.\u001b[0m\u001b[0marima\u001b[0m \u001b[0;32mimport\u001b[0m \u001b[0mauto_arima\u001b[0m\u001b[0;34m,\u001b[0m \u001b[0mARIMA\u001b[0m\u001b[0;34m,\u001b[0m \u001b[0mAutoARIMA\u001b[0m\u001b[0;34m,\u001b[0m \u001b[0mStepwiseContext\u001b[0m\u001b[0;34m,\u001b[0m \u001b[0mdecompose\u001b[0m\u001b[0;34m\u001b[0m\u001b[0;34m\u001b[0m\u001b[0m\n\u001b[0m\u001b[1;32m     52\u001b[0m     \u001b[0;32mfrom\u001b[0m \u001b[0;34m.\u001b[0m\u001b[0mutils\u001b[0m \u001b[0;32mimport\u001b[0m \u001b[0macf\u001b[0m\u001b[0;34m,\u001b[0m \u001b[0mautocorr_plot\u001b[0m\u001b[0;34m,\u001b[0m \u001b[0mc\u001b[0m\u001b[0;34m,\u001b[0m \u001b[0mpacf\u001b[0m\u001b[0;34m,\u001b[0m \u001b[0mplot_acf\u001b[0m\u001b[0;34m,\u001b[0m \u001b[0mplot_pacf\u001b[0m\u001b[0;34m,\u001b[0m\u001b[0;31m \u001b[0m\u001b[0;31m\\\u001b[0m\u001b[0;34m\u001b[0m\u001b[0;34m\u001b[0m\u001b[0m\n\u001b[1;32m     53\u001b[0m         \u001b[0mtsdisplay\u001b[0m\u001b[0;34m\u001b[0m\u001b[0;34m\u001b[0m\u001b[0m\n",
            "\u001b[0;32m/usr/local/lib/python3.7/dist-packages/pmdarima/arima/__init__.py\u001b[0m in \u001b[0;36m<module>\u001b[0;34m()\u001b[0m\n\u001b[1;32m      3\u001b[0m \u001b[0;31m# Author: Taylor Smith <taylor.smith@alkaline-ml.com>\u001b[0m\u001b[0;34m\u001b[0m\u001b[0;34m\u001b[0m\u001b[0;34m\u001b[0m\u001b[0m\n\u001b[1;32m      4\u001b[0m \u001b[0;34m\u001b[0m\u001b[0m\n\u001b[0;32m----> 5\u001b[0;31m \u001b[0;32mfrom\u001b[0m \u001b[0;34m.\u001b[0m\u001b[0mapprox\u001b[0m \u001b[0;32mimport\u001b[0m \u001b[0;34m*\u001b[0m\u001b[0;34m\u001b[0m\u001b[0;34m\u001b[0m\u001b[0m\n\u001b[0m\u001b[1;32m      6\u001b[0m \u001b[0;32mfrom\u001b[0m \u001b[0;34m.\u001b[0m\u001b[0marima\u001b[0m \u001b[0;32mimport\u001b[0m \u001b[0;34m*\u001b[0m\u001b[0;34m\u001b[0m\u001b[0;34m\u001b[0m\u001b[0m\n\u001b[1;32m      7\u001b[0m \u001b[0;32mfrom\u001b[0m \u001b[0;34m.\u001b[0m\u001b[0mauto\u001b[0m \u001b[0;32mimport\u001b[0m \u001b[0;34m*\u001b[0m\u001b[0;34m\u001b[0m\u001b[0;34m\u001b[0m\u001b[0m\n",
            "\u001b[0;32m/usr/local/lib/python3.7/dist-packages/pmdarima/arima/approx.py\u001b[0m in \u001b[0;36m<module>\u001b[0;34m()\u001b[0m\n\u001b[1;32m      8\u001b[0m \u001b[0;34m\u001b[0m\u001b[0m\n\u001b[1;32m      9\u001b[0m \u001b[0;32mfrom\u001b[0m \u001b[0;34m.\u001b[0m\u001b[0;34m.\u001b[0m\u001b[0mutils\u001b[0m\u001b[0;34m.\u001b[0m\u001b[0marray\u001b[0m \u001b[0;32mimport\u001b[0m \u001b[0mc\u001b[0m\u001b[0;34m,\u001b[0m \u001b[0mcheck_endog\u001b[0m\u001b[0;34m\u001b[0m\u001b[0;34m\u001b[0m\u001b[0m\n\u001b[0;32m---> 10\u001b[0;31m \u001b[0;32mfrom\u001b[0m \u001b[0;34m.\u001b[0m\u001b[0;34m.\u001b[0m\u001b[0mutils\u001b[0m \u001b[0;32mimport\u001b[0m \u001b[0mget_callable\u001b[0m\u001b[0;34m\u001b[0m\u001b[0;34m\u001b[0m\u001b[0m\n\u001b[0m\u001b[1;32m     11\u001b[0m \u001b[0;32mfrom\u001b[0m \u001b[0;34m.\u001b[0m\u001b[0;34m.\u001b[0m\u001b[0mcompat\u001b[0m\u001b[0;34m.\u001b[0m\u001b[0mnumpy\u001b[0m \u001b[0;32mimport\u001b[0m \u001b[0mDTYPE\u001b[0m\u001b[0;34m\u001b[0m\u001b[0;34m\u001b[0m\u001b[0m\n\u001b[1;32m     12\u001b[0m \u001b[0;34m\u001b[0m\u001b[0m\n",
            "\u001b[0;32m/usr/local/lib/python3.7/dist-packages/pmdarima/utils/__init__.py\u001b[0m in \u001b[0;36m<module>\u001b[0;34m()\u001b[0m\n\u001b[1;32m      5\u001b[0m \u001b[0;32mfrom\u001b[0m \u001b[0;34m.\u001b[0m\u001b[0marray\u001b[0m \u001b[0;32mimport\u001b[0m \u001b[0;34m*\u001b[0m\u001b[0;34m\u001b[0m\u001b[0;34m\u001b[0m\u001b[0m\n\u001b[1;32m      6\u001b[0m \u001b[0;32mfrom\u001b[0m \u001b[0;34m.\u001b[0m\u001b[0mmetaestimators\u001b[0m \u001b[0;32mimport\u001b[0m \u001b[0;34m*\u001b[0m\u001b[0;34m\u001b[0m\u001b[0;34m\u001b[0m\u001b[0m\n\u001b[0;32m----> 7\u001b[0;31m \u001b[0;32mfrom\u001b[0m \u001b[0;34m.\u001b[0m\u001b[0mvisualization\u001b[0m \u001b[0;32mimport\u001b[0m \u001b[0;34m*\u001b[0m\u001b[0;34m\u001b[0m\u001b[0;34m\u001b[0m\u001b[0m\n\u001b[0m\u001b[1;32m      8\u001b[0m \u001b[0;32mfrom\u001b[0m \u001b[0;34m.\u001b[0m\u001b[0mwrapped\u001b[0m \u001b[0;32mimport\u001b[0m \u001b[0;34m*\u001b[0m\u001b[0;34m\u001b[0m\u001b[0;34m\u001b[0m\u001b[0m\n\u001b[1;32m      9\u001b[0m \u001b[0;34m\u001b[0m\u001b[0m\n",
            "\u001b[0;32m/usr/local/lib/python3.7/dist-packages/pmdarima/utils/visualization.py\u001b[0m in \u001b[0;36m<module>\u001b[0;34m()\u001b[0m\n\u001b[1;32m      9\u001b[0m \u001b[0;32mfrom\u001b[0m \u001b[0;34m.\u001b[0m\u001b[0;34m.\u001b[0m\u001b[0mcompat\u001b[0m\u001b[0;34m.\u001b[0m\u001b[0mmatplotlib\u001b[0m \u001b[0;32mimport\u001b[0m \u001b[0mget_compatible_pyplot\u001b[0m\u001b[0;34m\u001b[0m\u001b[0;34m\u001b[0m\u001b[0m\n\u001b[1;32m     10\u001b[0m \u001b[0;34m\u001b[0m\u001b[0m\n\u001b[0;32m---> 11\u001b[0;31m \u001b[0;32mfrom\u001b[0m \u001b[0mstatsmodels\u001b[0m\u001b[0;34m.\u001b[0m\u001b[0mgraphics\u001b[0m \u001b[0;32mimport\u001b[0m \u001b[0mtsaplots\u001b[0m\u001b[0;34m\u001b[0m\u001b[0;34m\u001b[0m\u001b[0m\n\u001b[0m\u001b[1;32m     12\u001b[0m \u001b[0;34m\u001b[0m\u001b[0m\n\u001b[1;32m     13\u001b[0m \u001b[0;32mimport\u001b[0m \u001b[0mnumpy\u001b[0m \u001b[0;32mas\u001b[0m \u001b[0mnp\u001b[0m\u001b[0;34m\u001b[0m\u001b[0;34m\u001b[0m\u001b[0m\n",
            "\u001b[0;32m/usr/local/lib/python3.7/dist-packages/statsmodels/graphics/tsaplots.py\u001b[0m in \u001b[0;36m<module>\u001b[0;34m()\u001b[0m\n\u001b[1;32m      9\u001b[0m \u001b[0;34m\u001b[0m\u001b[0m\n\u001b[1;32m     10\u001b[0m \u001b[0;32mfrom\u001b[0m \u001b[0mstatsmodels\u001b[0m\u001b[0;34m.\u001b[0m\u001b[0mgraphics\u001b[0m \u001b[0;32mimport\u001b[0m \u001b[0mutils\u001b[0m\u001b[0;34m\u001b[0m\u001b[0;34m\u001b[0m\u001b[0m\n\u001b[0;32m---> 11\u001b[0;31m \u001b[0;32mfrom\u001b[0m \u001b[0mstatsmodels\u001b[0m\u001b[0;34m.\u001b[0m\u001b[0mtsa\u001b[0m\u001b[0;34m.\u001b[0m\u001b[0mstattools\u001b[0m \u001b[0;32mimport\u001b[0m \u001b[0macf\u001b[0m\u001b[0;34m,\u001b[0m \u001b[0mpacf\u001b[0m\u001b[0;34m\u001b[0m\u001b[0;34m\u001b[0m\u001b[0m\n\u001b[0m\u001b[1;32m     12\u001b[0m \u001b[0;34m\u001b[0m\u001b[0m\n\u001b[1;32m     13\u001b[0m \u001b[0;34m\u001b[0m\u001b[0m\n",
            "\u001b[0;32m/usr/local/lib/python3.7/dist-packages/statsmodels/tsa/stattools.py\u001b[0m in \u001b[0;36m<module>\u001b[0;34m()\u001b[0m\n\u001b[1;32m     16\u001b[0m \u001b[0;32mfrom\u001b[0m \u001b[0mscipy\u001b[0m \u001b[0;32mimport\u001b[0m \u001b[0mstats\u001b[0m\u001b[0;34m\u001b[0m\u001b[0;34m\u001b[0m\u001b[0m\n\u001b[1;32m     17\u001b[0m \u001b[0;32mfrom\u001b[0m \u001b[0mscipy\u001b[0m\u001b[0;34m.\u001b[0m\u001b[0minterpolate\u001b[0m \u001b[0;32mimport\u001b[0m \u001b[0minterp1d\u001b[0m\u001b[0;34m\u001b[0m\u001b[0;34m\u001b[0m\u001b[0m\n\u001b[0;32m---> 18\u001b[0;31m \u001b[0;32mfrom\u001b[0m \u001b[0mscipy\u001b[0m\u001b[0;34m.\u001b[0m\u001b[0msignal\u001b[0m \u001b[0;32mimport\u001b[0m \u001b[0mcorrelate\u001b[0m\u001b[0;34m\u001b[0m\u001b[0;34m\u001b[0m\u001b[0m\n\u001b[0m\u001b[1;32m     19\u001b[0m \u001b[0;34m\u001b[0m\u001b[0m\n\u001b[1;32m     20\u001b[0m \u001b[0;32mfrom\u001b[0m \u001b[0mstatsmodels\u001b[0m\u001b[0;34m.\u001b[0m\u001b[0mregression\u001b[0m\u001b[0;34m.\u001b[0m\u001b[0mlinear_model\u001b[0m \u001b[0;32mimport\u001b[0m \u001b[0mOLS\u001b[0m\u001b[0;34m,\u001b[0m \u001b[0myule_walker\u001b[0m\u001b[0;34m\u001b[0m\u001b[0;34m\u001b[0m\u001b[0m\n",
            "\u001b[0;31mModuleNotFoundError\u001b[0m: No module named 'scipy.signal'",
            "",
            "\u001b[0;31m---------------------------------------------------------------------------\u001b[0;32m\nNOTE: If your import is failing due to a missing package, you can\nmanually install dependencies using either !pip or !apt.\n\nTo view examples of installing some common dependencies, click the\n\"Open Examples\" button below.\n\u001b[0;31m---------------------------------------------------------------------------\u001b[0m\n"
          ],
          "errorDetails": {
            "actions": [
              {
                "action": "open_url",
                "actionText": "Open Examples",
                "url": "/notebooks/snippets/importing_libraries.ipynb"
              }
            ]
          }
        }
      ]
    },
    {
      "cell_type": "code",
      "metadata": {
        "colab": {
          "base_uri": "https://localhost:8080/",
          "height": 415
        },
        "id": "_zVSYTxlBmNG",
        "outputId": "0e8f03f3-daf3-4b97-8660-d1574df875a5"
      },
      "source": [
        "MergeTable = pd.concat([WhiteMen, WhiteWomen, BlackMen, BlackWomen,AsianMen,AsianWomen], axis=0)\n",
        "\n",
        "MergeTable['time']= (MergeTable['year']-2010)*4+MergeTable['quarter']-1\n",
        "MergeTable = MergeTable.drop(\"ethnic_origin\", axis = 'columns')\n",
        "MergeTable = MergeTable.drop(\"year\", axis = 'columns')\n",
        "MergeTable = MergeTable.drop(\"quarter\", axis = 'columns')\n",
        "MergeTable = MergeTable.drop(\"n_persons\", axis = 'columns')\n",
        "\n",
        "\n",
        "df = MergeTable[(MergeTable[\"race\"] == 'White')&(MergeTable[\"sex\"] == 'Men')&(MergeTable[\"age\"] == '25 to 54 years')]# not working because ethnical data doesn't respect the same age categories\n",
        "\n",
        "print(df.head())\n",
        "print(df.shape)\n",
        "print(df.columns)\n",
        "df[['median_weekly_earn']].plot()\n",
        "plt.title(\"Evolution des revenues\")\n",
        "plt.show()"
      ],
      "execution_count": 30,
      "outputs": [
        {
          "output_type": "stream",
          "name": "stdout",
          "text": [
            "      sex   race             age  median_weekly_earn  time\n",
            "2024  Men  White  25 to 54 years                 893     0\n",
            "2025  Men  White  25 to 54 years                 869     1\n",
            "2026  Men  White  25 to 54 years                 871     2\n",
            "2027  Men  White  25 to 54 years                 879     3\n",
            "2028  Men  White  25 to 54 years                 876     4\n",
            "(44, 5)\n",
            "Index(['sex', 'race', 'age', 'median_weekly_earn', 'time'], dtype='object')\n"
          ]
        },
        {
          "output_type": "display_data",
          "data": {
            "image/png": "[encoded data removed]",
            "text/plain": [
              "<Figure size 432x288 with 1 Axes>"
            ]
          },
          "metadata": {
            "needs_background": "light"
          }
        }
      ]
    },
    {
      "cell_type": "code",
      "metadata": {
        "colab": {
          "base_uri": "https://localhost:8080/"
        },
        "id": "plQTcj7qB-eu",
        "outputId": "5aa71202-9224-41f0-c250-ee2641c631ee"
      },
      "source": [
        "df1 = df[['time', 'median_weekly_earn']]\n",
        "df1=df1.set_index('time')\n",
        "#get_stationarity(df1['median_weekly_earn']) # not stationnary donc besoin de le rendre sttionaire diff 2\n",
        "plt.show()\n",
        "from random import randrange\n",
        "from pandas import Series\n",
        "from matplotlib import pyplot\n",
        "#from statsmodels.tsa.seasonal import seasonal_decompose\n",
        "print(df1['median_weekly_earn'])\n",
        "\n",
        "pyplot.show()"
      ],
      "execution_count": 31,
      "outputs": [
        {
          "output_type": "stream",
          "name": "stdout",
          "text": [
            "time\n",
            "0      893\n",
            "1      869\n",
            "2      871\n",
            "3      879\n",
            "4      876\n",
            "5      887\n",
            "6      888\n",
            "7      893\n",
            "8      903\n",
            "9      925\n",
            "10     892\n",
            "11     916\n",
            "12     919\n",
            "13     907\n",
            "14     905\n",
            "15     909\n",
            "16     929\n",
            "17     919\n",
            "18     918\n",
            "19     925\n",
            "20     945\n",
            "21     943\n",
            "22     941\n",
            "23     950\n",
            "24     955\n",
            "25     971\n",
            "26     964\n",
            "27     974\n",
            "28    1009\n",
            "29    1005\n",
            "30     990\n",
            "31    1000\n",
            "32    1030\n",
            "33    1008\n",
            "34    1037\n",
            "35    1043\n",
            "36    1068\n",
            "37    1063\n",
            "38    1070\n",
            "39    1097\n",
            "40    1128\n",
            "41    1153\n",
            "42    1154\n",
            "43    1147\n",
            "Name: median_weekly_earn, dtype: int64\n"
          ]
        }
      ]
    },
    {
      "cell_type": "code",
      "metadata": {
        "colab": {
          "base_uri": "https://localhost:8080/",
          "height": 941
        },
        "id": "zM5m2599CvaJ",
        "outputId": "7e4d8524-c63b-4b5a-d864-3c3f61193fc3"
      },
      "source": [
        "import numpy as np, pandas as pd\n",
        "from statsmodels.graphics.tsaplots import plot_acf, plot_pacf\n",
        "import matplotlib.pyplot as plt\n",
        "plt.rcParams.update({'figure.figsize':(9,7), 'figure.dpi':120})\n",
        "\n",
        "# Import data\n",
        "#print(df1)\n",
        "# Original Series\n",
        "fig, axes = plt.subplots(3, 3, sharex=True)\n",
        "axes[0, 0].plot(df1.median_weekly_earn); axes[0, 0].set_title('Original Series')\n",
        "plot_acf(df1.median_weekly_earn, ax=axes[0, 1])\n",
        "plot_pacf(df1.median_weekly_earn, ax=axes[0, 2])\n",
        "\n",
        "# 1st Differencing\n",
        "axes[1, 0].plot(df1.median_weekly_earn.diff()); axes[1, 0].set_title('1st Order Differencing')\n",
        "plot_acf(df1.median_weekly_earn.diff().dropna(), ax=axes[1, 1])\n",
        "plot_pacf(df1.median_weekly_earn.diff().dropna(), ax=axes[1, 2])\n",
        "\n",
        "# 2nd Differencing\n",
        "axes[2, 0].plot(df1.median_weekly_earn.diff().diff()); axes[2, 0].set_title('2nd Order Differencing')\n",
        "plot_acf(df1.median_weekly_earn.diff().diff().dropna(), ax=axes[2, 1])\n",
        "plot_pacf(df1.median_weekly_earn.diff().diff().dropna(), ax=axes[2,2])\n",
        "\n",
        "plt.show()"
      ],
      "execution_count": 33,
      "outputs": [
        {
          "output_type": "error",
          "ename": "NameError",
          "evalue": "ignored",
          "traceback": [
            "\u001b[0;31m---------------------------------------------------------------------------\u001b[0m",
            "\u001b[0;31mNameError\u001b[0m                                 Traceback (most recent call last)",
            "\u001b[0;32m<ipython-input-33-5499cc78273b>\u001b[0m in \u001b[0;36m<module>\u001b[0;34m()\u001b[0m\n\u001b[1;32m      9\u001b[0m \u001b[0mfig\u001b[0m\u001b[0;34m,\u001b[0m \u001b[0maxes\u001b[0m \u001b[0;34m=\u001b[0m \u001b[0mplt\u001b[0m\u001b[0;34m.\u001b[0m\u001b[0msubplots\u001b[0m\u001b[0;34m(\u001b[0m\u001b[0;36m3\u001b[0m\u001b[0;34m,\u001b[0m \u001b[0;36m3\u001b[0m\u001b[0;34m,\u001b[0m \u001b[0msharex\u001b[0m\u001b[0;34m=\u001b[0m\u001b[0;32mTrue\u001b[0m\u001b[0;34m)\u001b[0m\u001b[0;34m\u001b[0m\u001b[0;34m\u001b[0m\u001b[0m\n\u001b[1;32m     10\u001b[0m \u001b[0maxes\u001b[0m\u001b[0;34m[\u001b[0m\u001b[0;36m0\u001b[0m\u001b[0;34m,\u001b[0m \u001b[0;36m0\u001b[0m\u001b[0;34m]\u001b[0m\u001b[0;34m.\u001b[0m\u001b[0mplot\u001b[0m\u001b[0;34m(\u001b[0m\u001b[0mdf1\u001b[0m\u001b[0;34m.\u001b[0m\u001b[0mmedian_weekly_earn\u001b[0m\u001b[0;34m)\u001b[0m\u001b[0;34m;\u001b[0m \u001b[0maxes\u001b[0m\u001b[0;34m[\u001b[0m\u001b[0;36m0\u001b[0m\u001b[0;34m,\u001b[0m \u001b[0;36m0\u001b[0m\u001b[0;34m]\u001b[0m\u001b[0;34m.\u001b[0m\u001b[0mset_title\u001b[0m\u001b[0;34m(\u001b[0m\u001b[0;34m'Original Series'\u001b[0m\u001b[0;34m)\u001b[0m\u001b[0;34m\u001b[0m\u001b[0;34m\u001b[0m\u001b[0m\n\u001b[0;32m---> 11\u001b[0;31m \u001b[0mplot_acf\u001b[0m\u001b[0;34m(\u001b[0m\u001b[0mdf1\u001b[0m\u001b[0;34m.\u001b[0m\u001b[0mmedian_weekly_earn\u001b[0m\u001b[0;34m,\u001b[0m \u001b[0max\u001b[0m\u001b[0;34m=\u001b[0m\u001b[0maxes\u001b[0m\u001b[0;34m[\u001b[0m\u001b[0;36m0\u001b[0m\u001b[0;34m,\u001b[0m \u001b[0;36m1\u001b[0m\u001b[0;34m]\u001b[0m\u001b[0;34m)\u001b[0m\u001b[0;34m\u001b[0m\u001b[0;34m\u001b[0m\u001b[0m\n\u001b[0m\u001b[1;32m     12\u001b[0m \u001b[0mplot_pacf\u001b[0m\u001b[0;34m(\u001b[0m\u001b[0mdf1\u001b[0m\u001b[0;34m.\u001b[0m\u001b[0mmedian_weekly_earn\u001b[0m\u001b[0;34m,\u001b[0m \u001b[0max\u001b[0m\u001b[0;34m=\u001b[0m\u001b[0maxes\u001b[0m\u001b[0;34m[\u001b[0m\u001b[0;36m0\u001b[0m\u001b[0;34m,\u001b[0m \u001b[0;36m2\u001b[0m\u001b[0;34m]\u001b[0m\u001b[0;34m)\u001b[0m\u001b[0;34m\u001b[0m\u001b[0;34m\u001b[0m\u001b[0m\n\u001b[1;32m     13\u001b[0m \u001b[0;34m\u001b[0m\u001b[0m\n",
            "\u001b[0;31mNameError\u001b[0m: name 'plot_acf' is not defined"
          ]
        },
        {
          "output_type": "display_data",
          "data": {
            "image/png": "[encoded data removed]",
            "text/plain": [
              "<Figure size 1080x840 with 9 Axes>"
            ]
          },
          "metadata": {
            "needs_background": "light"
          }
        }
      ]
    },
    {
      "cell_type": "code",
      "metadata": {
        "colab": {
          "base_uri": "https://localhost:8080/",
          "height": 632
        },
        "id": "hpDg8pSpC2bf",
        "outputId": "d3c67c3b-508f-47ab-e1b7-2c7852b9feae"
      },
      "source": [
        "\n",
        "\n",
        "print(df1[:-int(len(df1)/2)])\n",
        "stepwise_fit = pm.auto_arima(df1[:-int(len(df1)/2)], start_p=0, start_q=0, max_p=4, max_q=4,\n",
        "                             m=4, #seasonalityPeriod\n",
        "                             start_P=0, \n",
        "                             seasonal=True, d=2 #differenciation\n",
        "                             , trace=True,\n",
        "                             error_action='ignore',\n",
        "                             stepwise=True)  # set to stepwise \n",
        "\n",
        "stepwise_fit.summary()\n",
        "my_order = (1, 2,1)  #(p,d,q)\n",
        "my_seasonal_order = (1, 0, 1, 4) #(p,d,q,t) t= frenquence de la saisonalité"
      ],
      "execution_count": 34,
      "outputs": [
        {
          "output_type": "stream",
          "name": "stdout",
          "text": [
            "      median_weekly_earn\n",
            "time                    \n",
            "0                    893\n",
            "1                    869\n",
            "2                    871\n",
            "3                    879\n",
            "4                    876\n",
            "5                    887\n",
            "6                    888\n",
            "7                    893\n",
            "8                    903\n",
            "9                    925\n",
            "10                   892\n",
            "11                   916\n",
            "12                   919\n",
            "13                   907\n",
            "14                   905\n",
            "15                   909\n",
            "16                   929\n",
            "17                   919\n",
            "18                   918\n",
            "19                   925\n",
            "20                   945\n",
            "21                   943\n"
          ]
        },
        {
          "output_type": "error",
          "ename": "NameError",
          "evalue": "ignored",
          "traceback": [
            "\u001b[0;31m---------------------------------------------------------------------------\u001b[0m",
            "\u001b[0;31mNameError\u001b[0m                                 Traceback (most recent call last)",
            "\u001b[0;32m<ipython-input-34-f6c2e20486e7>\u001b[0m in \u001b[0;36m<module>\u001b[0;34m()\u001b[0m\n\u001b[1;32m      2\u001b[0m \u001b[0;34m\u001b[0m\u001b[0m\n\u001b[1;32m      3\u001b[0m \u001b[0mprint\u001b[0m\u001b[0;34m(\u001b[0m\u001b[0mdf1\u001b[0m\u001b[0;34m[\u001b[0m\u001b[0;34m:\u001b[0m\u001b[0;34m-\u001b[0m\u001b[0mint\u001b[0m\u001b[0;34m(\u001b[0m\u001b[0mlen\u001b[0m\u001b[0;34m(\u001b[0m\u001b[0mdf1\u001b[0m\u001b[0;34m)\u001b[0m\u001b[0;34m/\u001b[0m\u001b[0;36m2\u001b[0m\u001b[0;34m)\u001b[0m\u001b[0;34m]\u001b[0m\u001b[0;34m)\u001b[0m\u001b[0;34m\u001b[0m\u001b[0;34m\u001b[0m\u001b[0m\n\u001b[0;32m----> 4\u001b[0;31m stepwise_fit = pm.auto_arima(df1[:-int(len(df1)/2)], start_p=0, start_q=0, max_p=4, max_q=4,\n\u001b[0m\u001b[1;32m      5\u001b[0m                              \u001b[0mm\u001b[0m\u001b[0;34m=\u001b[0m\u001b[0;36m4\u001b[0m\u001b[0;34m,\u001b[0m \u001b[0;31m#seasonalityPeriod\u001b[0m\u001b[0;34m\u001b[0m\u001b[0;34m\u001b[0m\u001b[0m\n\u001b[1;32m      6\u001b[0m                              \u001b[0mstart_P\u001b[0m\u001b[0;34m=\u001b[0m\u001b[0;36m0\u001b[0m\u001b[0;34m,\u001b[0m\u001b[0;34m\u001b[0m\u001b[0;34m\u001b[0m\u001b[0m\n",
            "\u001b[0;31mNameError\u001b[0m: name 'pm' is not defined"
          ]
        }
      ]
    },
    {
      "cell_type": "code",
      "metadata": {
        "id": "zTKaXNS-EgWr"
      },
      "source": [
        "n_periods = 6\n",
        "print(df1)\n",
        "train=df1[:-n_periods]\n",
        "test=df1[-n_periods:]\n",
        "my_order=(1,2,1)\n",
        "my_seasonal_order=(1,0,1,4)\n",
        "# Build Model\n",
        "model = SARIMAX(train, order=my_order, seasonal_order=my_seasonal_order) \n",
        "fitted = model.fit(disp=-1)  \n",
        "print(fitted.summary())\n",
        "\n",
        "# Forecast\n",
        "results= fitted.forecast(n_periods, alpha=0.05)  # 95% conf\n",
        "print(results)\n",
        "# Make as pandas series\n",
        "\n",
        "\n",
        "# Plot\n",
        "plt.figure(figsize=(12,5), dpi=100)\n",
        "plt.plot(train, label='training')\n",
        "plt.plot(test, label='actual')\n",
        "plt.plot(results, label='forecast')\n",
        "plt.fill_between(lower_series.index, lower_series, upper_series, \n",
        "                 color='k', alpha=.15)\n",
        "plt.title('Forecast vs Actuals')\n",
        "plt.legend(loc='upper left', fontsize=8)\n",
        "plt.ylabel(\"Median Weekly Earning\")\n",
        "plt.xlabel(\"Quarter\")\n",
        "plt.show()\n",
        "\n"
      ],
      "execution_count": null,
      "outputs": []
    },
    {
      "cell_type": "code",
      "metadata": {
        "id": "SDErK2EwEhQC"
      },
      "source": [
        "taberror=[]\n",
        "tababserror=[]\n",
        "\"\"\"\n",
        "p: Trend autoregression order.\n",
        "d: Trend difference order.  différenciation du 1er ordre nécessaire\n",
        "q: Trend moving average order.\n",
        "\n",
        "p = number of significant terms in PACF for trend\n",
        "\n",
        "d = Order of differencing for trend\n",
        "\n",
        "q= number of significant terms in ACF for trend\n",
        "\n",
        "https://www.machinelearningplus.com/time-series/arima-model-time-series-forecasting-python/#:~:text=ARIMA%2C%20short%20for%20'AutoRegressive%20Integrated,to%20predict%20the%20future%20values.\n",
        "\"\"\"\n",
        "my_order=(2,1,0)\n",
        "my_seasonal_order=(0,0,0,4)\n",
        "# define model 5*seasonalité pour estimation\n",
        "tscv=TimeSeriesSplit(max_train_size=None, n_splits=10)\n",
        "tabpredictions=[]\n",
        "\n",
        "for train_index, test_index in tscv.split(df1):\n",
        "  if(test_index[0]<int(len(df1)/2)):\n",
        "    continue\n",
        "  try:\n",
        "    print(\"TRAIN:\", train_index, \"TEST:\", test_index)\n",
        "    X_train, X_test = train_index,test_index\n",
        "    y_train, y_test = df1['median_weekly_earn'].iloc[train_index],df1['median_weekly_earn'].iloc[test_index]\n",
        "    #print(y_train)\n",
        "    model = SARIMAX(y_train, order=my_order, seasonal_order=my_seasonal_order)\n",
        "    res = model.fit(disp=0)\n",
        "  except:\n",
        "    continue\n",
        "    print(\"Unexpected error:\")\n",
        "  \n",
        "  #print(res.summary())\n",
        "  step=len(y_test)\n",
        "\n",
        "  predictions = res.forecast(steps=step)\n",
        "  #print(\"test\")\n",
        "  tabpredictions.extend(predictions)\n",
        "\n",
        "  try:\n",
        "    error = mean_squared_error(y_test, predictions,squared=False)\n",
        "    abserror = mean_absolute_error(y_test, predictions)\n",
        "    taberror.append(error)\n",
        "    tababserror.append(abserror)\n",
        "\n",
        "  except:\n",
        "    continue\n",
        "  print('Testing Mean Squared Error: %.3f' % error)\n",
        "  plt.show()\n",
        "\n",
        "predictions = res.forecast(steps=step)\n",
        "tabpredictions.extend(predictions)\n",
        "print(sum(taberror)/len(taberror))\n",
        "print(sum(tababserror)/len(tababserror))\n",
        "print(len(df1.median_weekly_earn)-len(tabpredictions)+4)\n",
        "plt.plot(range(24,len(df1.median_weekly_earn)+4),tabpredictions)\n",
        "plt.plot(df[['time']],df[['median_weekly_earn']])\n",
        "plt.ylabel(\"Median Weekly Earning\")\n",
        "plt.xlabel(\"Quarter\")\n",
        "plt.legend([\"Prediction data\",\"Train data\"])\n"
      ],
      "execution_count": null,
      "outputs": []
    },
    {
      "cell_type": "markdown",
      "metadata": {
        "id": "gogn2S27PScm"
      },
      "source": [
        "## **Analyse exploratoire des minorités**\n",
        "\n",
        "1. Analyse selon les industries"
      ]
    },
    {
      "cell_type": "code",
      "metadata": {
        "id": "RdZ-MF39PpB0"
      },
      "source": [
        "plt.style.use('default')\n",
        "fig, ax =plt.subplots(figsize=(20, 5))\n",
        "IndustryMelt=Industry.melt(id_vars=[\"industry\",\"year\",\"industry_total\"],value_vars=[\"White_Pourcentages\",\"Asian_Pourcentages\",\"BA_Pourcentages\"],var_name=\"Race_gender\",value_name=\"Pourcentage\")\n",
        "sns.barplot(x=\"industry\",y=\"Pourcentage\",hue=\"Race_gender\",data=IndustryMelt)\n",
        "\n",
        "plt.xticks(\n",
        "    rotation=55, \n",
        "    horizontalalignment='right',\n",
        "    fontweight='black',\n",
        "    fontsize=15 \n",
        ")\n",
        "plt.yticks(\n",
        "    rotation=45, \n",
        "    horizontalalignment='right',\n",
        "    fontweight='black',\n",
        "    fontsize=15\n",
        ")\n",
        "plt.ylabel('Pourcentage moyen d\\'employee',fontsize=20) \n",
        "plt.xlabel('Industry',fontsize=20)\n",
        "\n",
        "plt.legend(bbox_to_anchor=(1, 1), loc=1, borderaxespad=0.)\n",
        "plt.setp(ax.get_legend().get_texts(), fontsize='22')\n",
        "plt.show()"
      ],
      "execution_count": null,
      "outputs": []
    },
    {
      "cell_type": "code",
      "metadata": {
        "id": "ynDwqx-gauUu"
      },
      "source": [
        "IndustryMeltGrid = IndustryMelt.loc[IndustryMelt.Race_gender!='White_Pourcentages']\n",
        "g = sns.FacetGrid(IndustryMeltGrid, col=\"industry\", col_wrap=5, height=5, ylim=(0, 20),margin_titles=True)\n",
        "g.map(sns.barplot,\"year\",\"Pourcentage\",\"Race_gender\",palette=\"Set1\").add_legend()"
      ],
      "execution_count": null,
      "outputs": []
    },
    {
      "cell_type": "code",
      "metadata": {
        "id": "wNuEmigHkYHH"
      },
      "source": [
        "IndustryMeltGrid2 = IndustryMelt.loc[IndustryMelt.Race_gender!='White_Pourcentages']\n",
        "fig, axes = plt.subplots(6,1,figsize=(20, 15))\n",
        "Year2015 = IndustryMeltGrid2.loc[IndustryMelt.year==2015]\n",
        "Year2016 = IndustryMeltGrid2.loc[IndustryMelt.year==2016]\n",
        "Year2017 = IndustryMeltGrid2.loc[IndustryMelt.year==2017]\n",
        "Year2018 = IndustryMeltGrid2.loc[IndustryMelt.year==2018]\n",
        "Year2019 = IndustryMeltGrid2.loc[IndustryMelt.year==2019]\n",
        "Year2020 = IndustryMeltGrid2.loc[IndustryMelt.year==2020]\n",
        "sns.barplot(ax=axes[0],x=\"industry\",y=\"Pourcentage\",hue=\"Race_gender\",data=Year2015,ci=None).get_legend().remove()\n",
        "sns.barplot(ax=axes[1],x=\"industry\",y=\"Pourcentage\",hue=\"Race_gender\",data=Year2016,ci=None).get_legend().remove()\n",
        "sns.barplot(ax=axes[2],x=\"industry\",y=\"Pourcentage\",hue=\"Race_gender\",data=Year2017,ci=None).get_legend().remove()\n",
        "sns.barplot(ax=axes[3],x=\"industry\",y=\"Pourcentage\",hue=\"Race_gender\",data=Year2018,ci=None).get_legend().remove()\n",
        "sns.barplot(ax=axes[4],x=\"industry\",y=\"Pourcentage\",hue=\"Race_gender\",data=Year2019,ci=None).get_legend().remove()\n",
        "sns.barplot(ax=axes[5],x=\"industry\",y=\"Pourcentage\",hue=\"Race_gender\",data=Year2020,ci=None).get_legend().remove()\n",
        "plt.xticks(\n",
        "    rotation=45, \n",
        "    horizontalalignment='right',\n",
        "    fontweight='light',\n",
        "    fontsize='medium'  \n",
        ")\n",
        "axes[0].xaxis.set_ticklabels('')\n",
        "axes[0].set_xlabel('')\n",
        "axes[0].set_ylabel('pourcentage 2015')\n",
        "axes[1].xaxis.set_ticklabels('')\n",
        "axes[1].set_xlabel('')\n",
        "axes[1].set_ylabel('pourcentage 2016')\n",
        "axes[2].xaxis.set_ticklabels('')\n",
        "axes[2].set_xlabel('')\n",
        "axes[2].set_ylabel('pourcentage 2017')\n",
        "axes[3].xaxis.set_ticklabels('')\n",
        "axes[3].set_xlabel('')\n",
        "axes[3].set_ylabel('pourcentage 2018')\n",
        "axes[4].xaxis.set_ticklabels('')\n",
        "axes[4].set_xlabel('')\n",
        "axes[4].set_ylabel('pourcentage 2019')\n",
        "axes[5].set_ylabel('pourcentage 2020')\n",
        "\n",
        "plt.legend(bbox_to_anchor=(0.13, 1), loc=0, borderaxespad=0.)\n",
        "plt.show()"
      ],
      "execution_count": null,
      "outputs": []
    },
    {
      "cell_type": "code",
      "metadata": {
        "id": "PLgxoABQpA7R"
      },
      "source": [
        "fig, axes = plt.subplots(1,2,figsize=(20, 10))\n",
        "\n",
        "IndustryMeltBlack = Industry.loc[:,[\"industry\",'industry_total','year','White_Pourcentages','BA_Pourcentages','Asian_Pourcentages']]\n",
        "IndustryMeltBlack[\"White_Pourcentages\"]=IndustryMeltBlack[\"White_Pourcentages\"]*IndustryMeltBlack[\"industry_total\"]/100\n",
        "IndustryMeltBlack[\"BA_Pourcentages\"]=IndustryMeltBlack[\"BA_Pourcentages\"]*IndustryMeltBlack[\"industry_total\"]/100\n",
        "IndustryMeltBlack[\"Asian_Pourcentages\"]=IndustryMeltBlack[\"Asian_Pourcentages\"]*IndustryMeltBlack[\"industry_total\"]/100\n",
        "IndustryMeltBlack=IndustryMeltBlack.groupby(['industry'], as_index=False).agg({'industry_total': 'mean','White_Pourcentages': 'mean','BA_Pourcentages': 'mean','Asian_Pourcentages': 'mean' })\n",
        "IndustryMeltBlack[\"%_White\"]=IndustryMeltBlack[\"White_Pourcentages\"]/IndustryMeltBlack[\"industry_total\"]*100\n",
        "IndustryMeltBlack[\"%_BA\"]=IndustryMeltBlack[\"BA_Pourcentages\"]/IndustryMeltBlack[\"industry_total\"]*100\n",
        "IndustryMeltBlack[\"%_Asian\"]=IndustryMeltBlack[\"Asian_Pourcentages\"]/IndustryMeltBlack[\"industry_total\"]*100\n",
        "IndustryMeltBlack = IndustryMeltBlack.drop(['White_Pourcentages','BA_Pourcentages','Asian_Pourcentages'],axis=1)\n",
        "\n",
        "Black= IndustryMeltBlack.sort_values(['%_BA']).reset_index(drop=True)\n",
        "sns.barplot(ax=axes[1],x=\"industry\",y=\"%_BA\",data=IndustryMeltBlack,ci=None)\n",
        "sns.barplot(ax=axes[0],x=\"industry\",y=\"%_Asian\",data=IndustryMeltBlack,ci=None)\n",
        "axes[0].tick_params(labelrotation=45)\n",
        "axes[0].set_xticklabels(labels=axes[0].get_xticklabels(),horizontalalignment='right')\n",
        "axes[1].tick_params(labelrotation=45)\n",
        "axes[1].set_xticklabels(labels=axes[0].get_xticklabels(),horizontalalignment='right')\n",
        "\n",
        "plt.show()\n"
      ],
      "execution_count": null,
      "outputs": []
    },
    {
      "cell_type": "markdown",
      "metadata": {
        "id": "uLuJOQG5aePE"
      },
      "source": [
        "2. Analyse selon les minor occupations"
      ]
    },
    {
      "cell_type": "code",
      "metadata": {
        "id": "MJbxNU0vUtIZ"
      },
      "source": [
        "plt.subplots(figsize=(20, 5))\n",
        "Minor = NewEmployee.loc[:,[\"minor_occupation\",'employ_n','year','employ_n_White','employ_n_BA','employ_n_Asian']]\n",
        "MinorMelt=Minor.melt(id_vars=[\"minor_occupation\",\"year\",\"employ_n\"],value_vars=[\"employ_n_White\",\"employ_n_BA\",\"employ_n_Asian\"],var_name=\"ethnie\",value_name=\"Pourcentage\")\n",
        "sns.barplot(x=\"minor_occupation\",y=\"Pourcentage\",hue=\"ethnie\",data=MinorMelt)\n",
        "\n",
        "plt.xticks(\n",
        "    rotation=45, \n",
        "    horizontalalignment='right',\n",
        "    fontweight='light',\n",
        "    fontsize='medium'  \n",
        ")\n",
        "plt.show()\n",
        "NewEmployee"
      ],
      "execution_count": null,
      "outputs": []
    },
    {
      "cell_type": "code",
      "metadata": {
        "id": "g_1vdiX17AdL"
      },
      "source": [
        "fig, axes = plt.subplots(1,2,figsize=(20, 10))\n",
        "\n",
        "Minor = NewEmployee.loc[:,[\"minor_occupation\",'employ_n','year','employ_n_White','employ_n_BA','employ_n_Asian']]\n",
        "#MinorMelt = MinorMelt.loc[MinorMelt.ethnie != 'employ_%_White']\n",
        "#\n",
        "Minor = Minor.groupby(['minor_occupation'], as_index=False).agg({'employ_n': 'mean','employ_n_BA': 'mean','employ_n_Asian': 'mean','employ_n_White': 'mean',})\n",
        "Minor = Minor.drop(['employ_n','employ_n_White'],axis=1)\n",
        "\n",
        "sns.barplot(ax=axes[1],x=\"minor_occupation\",y=\"employ_n_BA\",data=Minor,ci=None)\n",
        "sns.barplot(ax=axes[0],x=\"minor_occupation\",y=\"employ_n_Asian\",data=Minor,ci=None)\n",
        "axes[0].tick_params(labelrotation=45)\n",
        "axes[0].set_xticklabels(labels=axes[0].get_xticklabels(),horizontalalignment='right')\n",
        "axes[1].tick_params(labelrotation=45)\n",
        "axes[1].set_xticklabels(labels=axes[0].get_xticklabels(),horizontalalignment='right')\n",
        "\n",
        "plt.show()\n"
      ],
      "execution_count": null,
      "outputs": []
    },
    {
      "cell_type": "markdown",
      "metadata": {
        "id": "6rSuSnOLaimQ"
      },
      "source": [
        "3. analyse selon les majors occupations"
      ]
    },
    {
      "cell_type": "code",
      "metadata": {
        "id": "1J__yXvrV79r"
      },
      "source": [
        "NewEmployeeMajor = NewEmployee.loc[:,[\"major_occupation\",'employ_n','year','employ_n_White','employ_n_BA','employ_n_Asian']]\n",
        "NewEmployeeMajor[\"employ_nb_White\"]=NewEmployeeMajor[\"employ_n\"]*NewEmployeeMajor[\"employ_n_White\"]/100\n",
        "NewEmployeeMajor[\"employ_nb_BA\"]=NewEmployeeMajor[\"employ_n\"]*NewEmployeeMajor[\"employ_n_BA\"]/100\n",
        "NewEmployeeMajor[\"employ_nb_Asian\"]=NewEmployeeMajor[\"employ_n\"]*NewEmployeeMajor[\"employ_n_Asian\"]/100\n",
        "#NewEmployeeMajor=NewEmployeeMajor.groupby(['minor_occupation', 'year'], as_index=False)['employ_n'].sum()\n",
        "NewEmployeeMajor=NewEmployeeMajor.groupby(['major_occupation', 'year'], as_index=False).agg({'employ_n': 'sum','employ_nb_White': 'sum','employ_nb_BA': 'sum','employ_nb_Asian': 'sum' })\n",
        "NewEmployeeMajor[\"employ_%_White\"]=NewEmployeeMajor[\"employ_nb_White\"]/NewEmployeeMajor[\"employ_n\"]*100\n",
        "NewEmployeeMajor[\"employ_%_BA\"]=NewEmployeeMajor[\"employ_nb_BA\"]/NewEmployeeMajor[\"employ_n\"]*100\n",
        "NewEmployeeMajor[\"employ_%_Asian\"]=NewEmployeeMajor[\"employ_nb_Asian\"]/NewEmployeeMajor[\"employ_n\"]*100\n",
        "plt.subplots(figsize=(20, 5))\n",
        "Major = NewEmployeeMajor.loc[:,[\"major_occupation\",'employ_n','year','employ_%_White','employ_%_BA','employ_%_Asian']]\n",
        "MajorMelt=Major.melt(id_vars=[\"major_occupation\",\"year\",\"employ_n\"],value_vars=[\"employ_%_White\",\"employ_%_BA\",\"employ_%_Asian\"],var_name=\"ethnie\",value_name=\"Pourcentage\")\n",
        "sns.barplot(x=\"major_occupation\",y=\"Pourcentage\",hue=\"ethnie\",data=MajorMelt)\n",
        "\n",
        "plt.xticks(\n",
        "    rotation=45, \n",
        "    horizontalalignment='right',\n",
        "    fontweight='light',\n",
        "    fontsize='medium'  \n",
        ")\n",
        "plt.show()"
      ],
      "execution_count": null,
      "outputs": []
    },
    {
      "cell_type": "code",
      "metadata": {
        "id": "SCyI_KSG81F-"
      },
      "source": [
        "fig, axes = plt.subplots(1,3,figsize=(20, 5))\n",
        "\n",
        "Major2 = Major.groupby(['major_occupation'], as_index=False).agg({'employ_n': 'mean','employ_%_BA': 'mean','employ_%_Asian': 'mean','employ_%_White': 'mean',})\n",
        "\n",
        "\n",
        "sns.barplot(ax=axes[1],x=\"major_occupation\",y=\"employ_%_BA\",data=Major2,ci=None)\n",
        "sns.barplot(ax=axes[0],x=\"major_occupation\",y=\"employ_%_Asian\",data=Major2,ci=None)\n",
        "sns.barplot(ax=axes[2],x=\"major_occupation\",y=\"employ_%_White\",data=Major2,ci=None)\n",
        "axes[0].tick_params(labelrotation=45)\n",
        "axes[0].set_xticklabels(labels=axes[0].get_xticklabels(),horizontalalignment='right')\n",
        "axes[1].tick_params(labelrotation=45)\n",
        "axes[1].set_xticklabels(labels=axes[0].get_xticklabels(),horizontalalignment='right')\n",
        "axes[2].tick_params(labelrotation=45)\n",
        "axes[2].set_xticklabels(labels=axes[0].get_xticklabels(),horizontalalignment='right')\n",
        "plt.show()\n",
        "Major2"
      ],
      "execution_count": null,
      "outputs": []
    },
    {
      "cell_type": "code",
      "metadata": {
        "id": "4eW4Qo_ZFlPS"
      },
      "source": [
        "plt.style.use('seaborn-whitegrid')\n",
        "plt.subplots(figsize=(20, 5))\n",
        "sns.barplot(x=\"major_occupation\",y=\"employ_n\",ci=None,data=Major2)\n",
        "fig = plt.figure(1, figsize=(5, 3))\n",
        "plt.xticks(\n",
        "    rotation=55, \n",
        "    horizontalalignment='right',\n",
        "    fontweight='black',\n",
        "    fontsize=15 \n",
        ")\n",
        "plt.yticks(\n",
        "    rotation=45, \n",
        "    horizontalalignment='right',\n",
        "    fontweight='black',\n",
        "    fontsize=15\n",
        ")\n",
        "plt.ylabel('Nombre d\\'employee',fontsize=20) \n",
        "plt.xlabel('Major occupation',fontsize=20)\n",
        "plt.show()"
      ],
      "execution_count": null,
      "outputs": []
    }
  ]
}